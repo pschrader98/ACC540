{
 "cells": [
  {
   "cell_type": "markdown",
   "source": [
    "# 1. Set up the environment"
   ],
   "metadata": {
    "collapsed": false
   }
  },
  {
   "cell_type": "markdown",
   "source": [
    "Before we can import the required libraries, we need to install them.\n",
    "You can install the libraries with pip and the following commands:\n",
    " pip install refinitiv-dataplatform\n",
    " pip install pandas"
   ],
   "metadata": {
    "collapsed": false
   }
  },
  {
   "cell_type": "code",
   "execution_count": 1,
   "outputs": [],
   "source": [
    "import refinitiv.dataplatform.eikon as ek\n",
    "import refinitiv.data as rd\n",
    "import pandas as pd\n",
    "import time\n",
    "\n",
    "#https://developers.lseg.com/en/api-catalog/refinitiv-data-platform/refinitiv-data-platform-apis/tutorials#esg-data-in-python"
   ],
   "metadata": {
    "collapsed": false,
    "ExecuteTime": {
     "end_time": "2024-02-23T14:20:44.975646Z",
     "start_time": "2024-02-23T14:20:43.762749Z"
    }
   }
  },
  {
   "cell_type": "markdown",
   "source": [
    "Setting up the configuration for Refinitiv API is tidious. Here are two different ways:"
   ],
   "metadata": {
    "collapsed": false
   }
  },
  {
   "cell_type": "markdown",
   "source": [
    "Define the session using your own credentials store.\n",
    "It is best practice to store your credentials in a separate file and load them from there."
   ],
   "metadata": {
    "collapsed": false
   }
  },
  {
   "cell_type": "markdown",
   "source": [
    "You will get your password and username from the university library.\n",
    "The App key you will have to generate in the APP Key Generator in the Refinitiv Workspace (Desktop Application or Website)."
   ],
   "metadata": {
    "collapsed": false
   }
  },
  {
   "cell_type": "code",
   "execution_count": 2,
   "outputs": [],
   "source": [
    "import passwords\n",
    "RDP_LOGIN = passwords.RDP_LOGIN\n",
    "RDP_PASSWORD = passwords.RDP_PASSWORD\n",
    "APP_KEY = passwords.APP_KEY"
   ],
   "metadata": {
    "collapsed": false,
    "ExecuteTime": {
     "end_time": "2024-02-23T14:20:52.984640Z",
     "start_time": "2024-02-23T14:20:52.981448Z"
    }
   }
  },
  {
   "cell_type": "code",
   "execution_count": 3,
   "outputs": [
    {
     "name": "stderr",
     "output_type": "stream",
     "text": [
      "/Users/pascalschrader/Library/CloudStorage/OneDrive-uni-mannheim.de/Mannheim/Lehrstuhl/Lehre/ACC_540/2024/Excercise/Tutorial1/ACC540/venv/lib/python3.11/site-packages/refinitiv/data/session/platform.py:90:FutureWarning: \n",
      "You open a platform session using the default value of the signon_control parameter (signon_control=True).\n",
      "In future library version v2.0, this default will be changed to False.\n",
      "If you want to keep the same behavior as today, you will need to set the signon_control parameter to True either in the library configuration file\n",
      "({'sessions':{'platform':{'your_session_name':{'signon_control':true}}}}) or in your code where you create the Platform Session.\n",
      "These alternative options are already supported in the current version of the library.\n"
     ]
    }
   ],
   "source": [
    "session = rd.session.platform.Definition(\n",
    "    app_key = APP_KEY,\n",
    "    grant = rd.session.platform.GrantPassword(\n",
    "        username = RDP_LOGIN,\n",
    "        password = RDP_PASSWORD\n",
    "    )\n",
    ").get_session()"
   ],
   "metadata": {
    "collapsed": false,
    "ExecuteTime": {
     "end_time": "2024-02-23T13:26:45.368943Z",
     "start_time": "2024-02-23T13:26:45.298272Z"
    }
   }
  },
  {
   "cell_type": "code",
   "execution_count": 4,
   "outputs": [
    {
     "data": {
      "text/plain": "<OpenState.Opened: 'Opened'>"
     },
     "execution_count": 4,
     "metadata": {},
     "output_type": "execute_result"
    }
   ],
   "source": [
    "session.open()"
   ],
   "metadata": {
    "collapsed": false,
    "ExecuteTime": {
     "end_time": "2024-02-21T10:12:28.093377700Z",
     "start_time": "2024-02-21T10:12:27.022431Z"
    }
   }
  },
  {
   "cell_type": "markdown",
   "source": [
    "You can also setup a configuration file and specify the sessions in there. I specified the platform session in the configuration file as default\n",
    "https://github.com/LSEG-API-Samples/Example.DataLibrary.Python/blob/main/Configuration/refinitiv-data.config.json"
   ],
   "metadata": {
    "collapsed": false
   }
  },
  {
   "cell_type": "code",
   "execution_count": 3,
   "outputs": [
    {
     "name": "stderr",
     "output_type": "stream",
     "text": [
      "/Users/pascalschrader/Library/CloudStorage/OneDrive-uni-mannheim.de/Mannheim/Lehrstuhl/Lehre/ACC_540/2024/Excercise/Tutorial1/ACC540/venv/lib/python3.11/site-packages/refinitiv/data/_access_layer/session.py:71:FutureWarning: \n",
      "You open a platform session using the default value of the signon_control parameter (signon_control=True).\n",
      "In future library version v2.0, this default will be changed to False.\n",
      "If you want to keep the same behavior as today, you will need to set the signon_control parameter to True either in the library configuration file\n",
      "({'sessions':{'platform':{'your_session_name':{'signon_control':true}}}}) or in your code where you create the Platform Session.\n",
      "These alternative options are already supported in the current version of the library.\n"
     ]
    },
    {
     "data": {
      "text/plain": "<refinitiv.data.session.Definition object at 0x1608cc4d0 {name='rdp'}>"
     },
     "execution_count": 3,
     "metadata": {},
     "output_type": "execute_result"
    }
   ],
   "source": [
    "rd.open_session()"
   ],
   "metadata": {
    "collapsed": false,
    "ExecuteTime": {
     "end_time": "2024-02-23T14:20:56.841061Z",
     "start_time": "2024-02-23T14:20:56.288336Z"
    }
   }
  },
  {
   "cell_type": "markdown",
   "source": [
    "Some functionality is only provided in Eikon, so we set up Eikon access as well.\n",
    "The Eikon Data API needs the Eikon/Workspace Desktop application as the API proxy interface between the API and the Eikon Platform. For this reason, the Eikon/Workspace application must be running when you use the Eikon Data API Python library."
   ],
   "metadata": {
    "collapsed": false
   }
  },
  {
   "cell_type": "code",
   "execution_count": 5,
   "metadata": {
    "collapsed": true,
    "ExecuteTime": {
     "end_time": "2024-02-23T14:21:07.530154Z",
     "start_time": "2024-02-23T14:21:07.494093Z"
    }
   },
   "outputs": [],
   "source": [
    "ek.set_app_key(APP_KEY)"
   ]
  },
  {
   "cell_type": "markdown",
   "source": [
    "# 2. Get accounting data"
   ],
   "metadata": {
    "collapsed": false
   }
  },
  {
   "cell_type": "markdown",
   "source": [
    "For our first example we are interested in the price of the S&P 500 constituents.\n",
    "We start by downloading the unique identifiers (RIC in the Refinitv world) of the constituents."
   ],
   "metadata": {
    "collapsed": false
   }
  },
  {
   "cell_type": "markdown",
   "source": [
    "Refinitiv Data Platform is the new strategic data distribution platform aimed to unify the distribution of all Refinitiv content assets. However, at this time numerous datasets available through Eikon are not yet available through RDPs.\n",
    "Using RDP Libraries you can access RDP and retrieve data that is already available on this platform, and you can also utilize Eikon Data APIs and retrieve data that is not yet available from RDP."
   ],
   "metadata": {
    "collapsed": false
   }
  },
  {
   "cell_type": "markdown",
   "source": [
    "Lets start by looking at some fundamental data\n",
    "We can use different identifiers for companies (RIC, ISIN and CUSIP)"
   ],
   "metadata": {
    "collapsed": false
   }
  },
  {
   "cell_type": "code",
   "execution_count": 10,
   "outputs": [
    {
     "data": {
      "text/plain": "  Instrument       Revenue\n0    AAPL.OQ  383285000000",
      "text/html": "<div>\n<style scoped>\n    .dataframe tbody tr th:only-of-type {\n        vertical-align: middle;\n    }\n\n    .dataframe tbody tr th {\n        vertical-align: top;\n    }\n\n    .dataframe thead th {\n        text-align: right;\n    }\n</style>\n<table border=\"1\" class=\"dataframe\">\n  <thead>\n    <tr style=\"text-align: right;\">\n      <th></th>\n      <th>Instrument</th>\n      <th>Revenue</th>\n    </tr>\n  </thead>\n  <tbody>\n    <tr>\n      <th>0</th>\n      <td>AAPL.OQ</td>\n      <td>383285000000</td>\n    </tr>\n  </tbody>\n</table>\n</div>"
     },
     "execution_count": 10,
     "metadata": {},
     "output_type": "execute_result"
    }
   ],
   "source": [
    "rd.get_data(\n",
    "    universe=['AAPL.OQ'],\n",
    "    fields=['TR.Revenue']\n",
    ")"
   ],
   "metadata": {
    "collapsed": false,
    "ExecuteTime": {
     "end_time": "2024-02-23T13:48:23.278084Z",
     "start_time": "2024-02-23T13:48:22.938871Z"
    }
   }
  },
  {
   "cell_type": "markdown",
   "source": [
    "To get the \"code\" for our variables of interest, we use the Data Item Browser in the Refinitiv Workspace."
   ],
   "metadata": {
    "collapsed": false
   }
  },
  {
   "cell_type": "code",
   "execution_count": 6,
   "outputs": [
    {
     "data": {
      "text/plain": "  Instrument       Revenue  Total Assets  Total Liabilities    Turnover\n0    AAPL.OQ  383285000000  352583000000       290437000000  3113009126",
      "text/html": "<div>\n<style scoped>\n    .dataframe tbody tr th:only-of-type {\n        vertical-align: middle;\n    }\n\n    .dataframe tbody tr th {\n        vertical-align: top;\n    }\n\n    .dataframe thead th {\n        text-align: right;\n    }\n</style>\n<table border=\"1\" class=\"dataframe\">\n  <thead>\n    <tr style=\"text-align: right;\">\n      <th></th>\n      <th>Instrument</th>\n      <th>Revenue</th>\n      <th>Total Assets</th>\n      <th>Total Liabilities</th>\n      <th>Turnover</th>\n    </tr>\n  </thead>\n  <tbody>\n    <tr>\n      <th>0</th>\n      <td>AAPL.OQ</td>\n      <td>383285000000</td>\n      <td>352583000000</td>\n      <td>290437000000</td>\n      <td>3113009126</td>\n    </tr>\n  </tbody>\n</table>\n</div>"
     },
     "execution_count": 6,
     "metadata": {},
     "output_type": "execute_result"
    }
   ],
   "source": [
    "rd.get_data(\n",
    "    universe=['AAPL.OQ'],\n",
    "    fields=['TR.Revenue', 'TR.F.TotAssets', 'TR.F.TotLiab', 'TR.TURNOVER']\n",
    ")"
   ],
   "metadata": {
    "collapsed": false,
    "ExecuteTime": {
     "end_time": "2024-02-23T13:31:50.839586Z",
     "start_time": "2024-02-23T13:31:49.784630Z"
    }
   }
  },
  {
   "cell_type": "markdown",
   "source": [
    "We can also look at different time periods"
   ],
   "metadata": {
    "collapsed": false
   }
  },
  {
   "cell_type": "code",
   "execution_count": 7,
   "outputs": [
    {
     "data": {
      "text/plain": "  Instrument       Date       Revenue  Total Assets  Total Liabilities\n0    AAPL.OQ 2023-09-30  383285000000  352583000000       290437000000\n1    AAPL.OQ 2022-09-24  394328000000  352755000000       302083000000\n2    AAPL.OQ 2021-09-25  365817000000  351002000000       287912000000\n3    AAPL.OQ 2020-09-26  274515000000  323888000000       258549000000",
      "text/html": "<div>\n<style scoped>\n    .dataframe tbody tr th:only-of-type {\n        vertical-align: middle;\n    }\n\n    .dataframe tbody tr th {\n        vertical-align: top;\n    }\n\n    .dataframe thead th {\n        text-align: right;\n    }\n</style>\n<table border=\"1\" class=\"dataframe\">\n  <thead>\n    <tr style=\"text-align: right;\">\n      <th></th>\n      <th>Instrument</th>\n      <th>Date</th>\n      <th>Revenue</th>\n      <th>Total Assets</th>\n      <th>Total Liabilities</th>\n    </tr>\n  </thead>\n  <tbody>\n    <tr>\n      <th>0</th>\n      <td>AAPL.OQ</td>\n      <td>2023-09-30</td>\n      <td>383285000000</td>\n      <td>352583000000</td>\n      <td>290437000000</td>\n    </tr>\n    <tr>\n      <th>1</th>\n      <td>AAPL.OQ</td>\n      <td>2022-09-24</td>\n      <td>394328000000</td>\n      <td>352755000000</td>\n      <td>302083000000</td>\n    </tr>\n    <tr>\n      <th>2</th>\n      <td>AAPL.OQ</td>\n      <td>2021-09-25</td>\n      <td>365817000000</td>\n      <td>351002000000</td>\n      <td>287912000000</td>\n    </tr>\n    <tr>\n      <th>3</th>\n      <td>AAPL.OQ</td>\n      <td>2020-09-26</td>\n      <td>274515000000</td>\n      <td>323888000000</td>\n      <td>258549000000</td>\n    </tr>\n  </tbody>\n</table>\n</div>"
     },
     "execution_count": 7,
     "metadata": {},
     "output_type": "execute_result"
    }
   ],
   "source": [
    "rd.get_data(\n",
    "    universe=['AAPL.OQ'],\n",
    "    fields=['TR.Revenue.date', 'TR.Revenue', 'TR.F.TotAssets', 'TR.F.TotLiab'],\n",
    "    parameters = {'SDate':0, 'EDate':-3}\n",
    ")"
   ],
   "metadata": {
    "collapsed": false,
    "ExecuteTime": {
     "end_time": "2024-02-23T13:31:55.803235Z",
     "start_time": "2024-02-23T13:31:55.623817Z"
    }
   }
  },
  {
   "cell_type": "markdown",
   "source": [
    "# 3. Get price data"
   ],
   "metadata": {
    "collapsed": false
   }
  },
  {
   "cell_type": "markdown",
   "source": [
    "Let's have a look at some pricing information.\n",
    "Get Apples market capitalization for the last 10 days"
   ],
   "metadata": {
    "collapsed": false
   }
  },
  {
   "cell_type": "code",
   "execution_count": 8,
   "outputs": [
    {
     "data": {
      "text/plain": "   Instrument       Date  Company Market Capitalization\n0     AAPL.OQ 2024-02-22                  2833276325880\n1     AAPL.OQ 2024-02-21                  2815363743920\n2     AAPL.OQ 2024-02-20                  2803627914360\n3     AAPL.OQ 2024-02-16                  2815209325110\n4     AAPL.OQ 2024-02-15                  2839144240660\n5     AAPL.OQ 2024-02-14                  2843622386150\n6     AAPL.OQ 2024-02-13                  2857365660240\n7     AAPL.OQ 2024-02-12                  2889948029150\n8     AAPL.OQ 2024-02-09                  2916199226850\n9     AAPL.OQ 2024-02-08                  2908015029920\n10    AAPL.OQ 2024-02-07                  2924846680210",
      "text/html": "<div>\n<style scoped>\n    .dataframe tbody tr th:only-of-type {\n        vertical-align: middle;\n    }\n\n    .dataframe tbody tr th {\n        vertical-align: top;\n    }\n\n    .dataframe thead th {\n        text-align: right;\n    }\n</style>\n<table border=\"1\" class=\"dataframe\">\n  <thead>\n    <tr style=\"text-align: right;\">\n      <th></th>\n      <th>Instrument</th>\n      <th>Date</th>\n      <th>Company Market Capitalization</th>\n    </tr>\n  </thead>\n  <tbody>\n    <tr>\n      <th>0</th>\n      <td>AAPL.OQ</td>\n      <td>2024-02-22</td>\n      <td>2833276325880</td>\n    </tr>\n    <tr>\n      <th>1</th>\n      <td>AAPL.OQ</td>\n      <td>2024-02-21</td>\n      <td>2815363743920</td>\n    </tr>\n    <tr>\n      <th>2</th>\n      <td>AAPL.OQ</td>\n      <td>2024-02-20</td>\n      <td>2803627914360</td>\n    </tr>\n    <tr>\n      <th>3</th>\n      <td>AAPL.OQ</td>\n      <td>2024-02-16</td>\n      <td>2815209325110</td>\n    </tr>\n    <tr>\n      <th>4</th>\n      <td>AAPL.OQ</td>\n      <td>2024-02-15</td>\n      <td>2839144240660</td>\n    </tr>\n    <tr>\n      <th>5</th>\n      <td>AAPL.OQ</td>\n      <td>2024-02-14</td>\n      <td>2843622386150</td>\n    </tr>\n    <tr>\n      <th>6</th>\n      <td>AAPL.OQ</td>\n      <td>2024-02-13</td>\n      <td>2857365660240</td>\n    </tr>\n    <tr>\n      <th>7</th>\n      <td>AAPL.OQ</td>\n      <td>2024-02-12</td>\n      <td>2889948029150</td>\n    </tr>\n    <tr>\n      <th>8</th>\n      <td>AAPL.OQ</td>\n      <td>2024-02-09</td>\n      <td>2916199226850</td>\n    </tr>\n    <tr>\n      <th>9</th>\n      <td>AAPL.OQ</td>\n      <td>2024-02-08</td>\n      <td>2908015029920</td>\n    </tr>\n    <tr>\n      <th>10</th>\n      <td>AAPL.OQ</td>\n      <td>2024-02-07</td>\n      <td>2924846680210</td>\n    </tr>\n  </tbody>\n</table>\n</div>"
     },
     "execution_count": 8,
     "metadata": {},
     "output_type": "execute_result"
    }
   ],
   "source": [
    "rd.get_data(\n",
    "    universe=['AAPL.OQ'],\n",
    "    fields=['TR.CompanyMarketCapitalization.date', 'TR.CompanyMarketCapitalization'],\n",
    "    parameters = {'SDate':0, 'EDate':-10, 'Frq':'D'}\n",
    ")"
   ],
   "metadata": {
    "collapsed": false,
    "ExecuteTime": {
     "end_time": "2024-02-23T13:32:03.326039Z",
     "start_time": "2024-02-23T13:32:02.419360Z"
    }
   }
  },
  {
   "cell_type": "markdown",
   "source": [
    "We can use calendar dates as well"
   ],
   "metadata": {
    "collapsed": false
   }
  },
  {
   "cell_type": "code",
   "execution_count": 9,
   "outputs": [
    {
     "data": {
      "text/plain": "   Instrument       Date  Company Market Capitalization\n0     AAPL.OQ 2024-01-02                  2870346373440\n1     AAPL.OQ 2024-01-03                  2848854338000\n2     AAPL.OQ 2024-01-04                  2812673501360\n3     AAPL.OQ 2024-01-05                  2801386317280\n4     AAPL.OQ 2024-01-08                  2869109421760\n5     AAPL.OQ 2024-01-09                  2862615425440\n6     AAPL.OQ 2024-01-10                  2878850416240\n7     AAPL.OQ 2024-01-11                  2869573278640\n8     AAPL.OQ 2024-01-12                  2874675704320\n9     AAPL.OQ 2024-01-16                  2839267962480\n10    AAPL.OQ 2024-01-17                  2824579161280\n11    AAPL.OQ 2024-01-18                  2916577442480\n12    AAPL.OQ 2024-01-19                  2958046724360\n13    AAPL.OQ 2024-01-22                  2994026307090\n14    AAPL.OQ 2024-01-23                  3013946333580\n15    AAPL.OQ 2024-01-24                  3003445854500\n16    AAPL.OQ 2024-01-25                  2998350033770\n17    AAPL.OQ 2024-01-26                  2971326742020\n18    AAPL.OQ 2024-01-29                  2960671844130\n19    AAPL.OQ 2024-01-30                  2903691303240\n20    AAPL.OQ 2024-01-31                  2847482856400\n21    AAPL.OQ 2024-02-01                  2885469883660\n22    AAPL.OQ 2024-02-02                  2869873583850\n23    AAPL.OQ 2024-02-05                  2898132226080\n24    AAPL.OQ 2024-02-06                  2923148073300\n25    AAPL.OQ 2024-02-07                  2924846680210\n26    AAPL.OQ 2024-02-08                  2908015029920\n27    AAPL.OQ 2024-02-09                  2916199226850\n28    AAPL.OQ 2024-02-12                  2889948029150\n29    AAPL.OQ 2024-02-13                  2857365660240\n30    AAPL.OQ 2024-02-14                  2843622386150\n31    AAPL.OQ 2024-02-15                  2839144240660\n32    AAPL.OQ 2024-02-16                  2815209325110\n33    AAPL.OQ 2024-02-20                  2803627914360\n34    AAPL.OQ 2024-02-21                  2815363743920",
      "text/html": "<div>\n<style scoped>\n    .dataframe tbody tr th:only-of-type {\n        vertical-align: middle;\n    }\n\n    .dataframe tbody tr th {\n        vertical-align: top;\n    }\n\n    .dataframe thead th {\n        text-align: right;\n    }\n</style>\n<table border=\"1\" class=\"dataframe\">\n  <thead>\n    <tr style=\"text-align: right;\">\n      <th></th>\n      <th>Instrument</th>\n      <th>Date</th>\n      <th>Company Market Capitalization</th>\n    </tr>\n  </thead>\n  <tbody>\n    <tr>\n      <th>0</th>\n      <td>AAPL.OQ</td>\n      <td>2024-01-02</td>\n      <td>2870346373440</td>\n    </tr>\n    <tr>\n      <th>1</th>\n      <td>AAPL.OQ</td>\n      <td>2024-01-03</td>\n      <td>2848854338000</td>\n    </tr>\n    <tr>\n      <th>2</th>\n      <td>AAPL.OQ</td>\n      <td>2024-01-04</td>\n      <td>2812673501360</td>\n    </tr>\n    <tr>\n      <th>3</th>\n      <td>AAPL.OQ</td>\n      <td>2024-01-05</td>\n      <td>2801386317280</td>\n    </tr>\n    <tr>\n      <th>4</th>\n      <td>AAPL.OQ</td>\n      <td>2024-01-08</td>\n      <td>2869109421760</td>\n    </tr>\n    <tr>\n      <th>5</th>\n      <td>AAPL.OQ</td>\n      <td>2024-01-09</td>\n      <td>2862615425440</td>\n    </tr>\n    <tr>\n      <th>6</th>\n      <td>AAPL.OQ</td>\n      <td>2024-01-10</td>\n      <td>2878850416240</td>\n    </tr>\n    <tr>\n      <th>7</th>\n      <td>AAPL.OQ</td>\n      <td>2024-01-11</td>\n      <td>2869573278640</td>\n    </tr>\n    <tr>\n      <th>8</th>\n      <td>AAPL.OQ</td>\n      <td>2024-01-12</td>\n      <td>2874675704320</td>\n    </tr>\n    <tr>\n      <th>9</th>\n      <td>AAPL.OQ</td>\n      <td>2024-01-16</td>\n      <td>2839267962480</td>\n    </tr>\n    <tr>\n      <th>10</th>\n      <td>AAPL.OQ</td>\n      <td>2024-01-17</td>\n      <td>2824579161280</td>\n    </tr>\n    <tr>\n      <th>11</th>\n      <td>AAPL.OQ</td>\n      <td>2024-01-18</td>\n      <td>2916577442480</td>\n    </tr>\n    <tr>\n      <th>12</th>\n      <td>AAPL.OQ</td>\n      <td>2024-01-19</td>\n      <td>2958046724360</td>\n    </tr>\n    <tr>\n      <th>13</th>\n      <td>AAPL.OQ</td>\n      <td>2024-01-22</td>\n      <td>2994026307090</td>\n    </tr>\n    <tr>\n      <th>14</th>\n      <td>AAPL.OQ</td>\n      <td>2024-01-23</td>\n      <td>3013946333580</td>\n    </tr>\n    <tr>\n      <th>15</th>\n      <td>AAPL.OQ</td>\n      <td>2024-01-24</td>\n      <td>3003445854500</td>\n    </tr>\n    <tr>\n      <th>16</th>\n      <td>AAPL.OQ</td>\n      <td>2024-01-25</td>\n      <td>2998350033770</td>\n    </tr>\n    <tr>\n      <th>17</th>\n      <td>AAPL.OQ</td>\n      <td>2024-01-26</td>\n      <td>2971326742020</td>\n    </tr>\n    <tr>\n      <th>18</th>\n      <td>AAPL.OQ</td>\n      <td>2024-01-29</td>\n      <td>2960671844130</td>\n    </tr>\n    <tr>\n      <th>19</th>\n      <td>AAPL.OQ</td>\n      <td>2024-01-30</td>\n      <td>2903691303240</td>\n    </tr>\n    <tr>\n      <th>20</th>\n      <td>AAPL.OQ</td>\n      <td>2024-01-31</td>\n      <td>2847482856400</td>\n    </tr>\n    <tr>\n      <th>21</th>\n      <td>AAPL.OQ</td>\n      <td>2024-02-01</td>\n      <td>2885469883660</td>\n    </tr>\n    <tr>\n      <th>22</th>\n      <td>AAPL.OQ</td>\n      <td>2024-02-02</td>\n      <td>2869873583850</td>\n    </tr>\n    <tr>\n      <th>23</th>\n      <td>AAPL.OQ</td>\n      <td>2024-02-05</td>\n      <td>2898132226080</td>\n    </tr>\n    <tr>\n      <th>24</th>\n      <td>AAPL.OQ</td>\n      <td>2024-02-06</td>\n      <td>2923148073300</td>\n    </tr>\n    <tr>\n      <th>25</th>\n      <td>AAPL.OQ</td>\n      <td>2024-02-07</td>\n      <td>2924846680210</td>\n    </tr>\n    <tr>\n      <th>26</th>\n      <td>AAPL.OQ</td>\n      <td>2024-02-08</td>\n      <td>2908015029920</td>\n    </tr>\n    <tr>\n      <th>27</th>\n      <td>AAPL.OQ</td>\n      <td>2024-02-09</td>\n      <td>2916199226850</td>\n    </tr>\n    <tr>\n      <th>28</th>\n      <td>AAPL.OQ</td>\n      <td>2024-02-12</td>\n      <td>2889948029150</td>\n    </tr>\n    <tr>\n      <th>29</th>\n      <td>AAPL.OQ</td>\n      <td>2024-02-13</td>\n      <td>2857365660240</td>\n    </tr>\n    <tr>\n      <th>30</th>\n      <td>AAPL.OQ</td>\n      <td>2024-02-14</td>\n      <td>2843622386150</td>\n    </tr>\n    <tr>\n      <th>31</th>\n      <td>AAPL.OQ</td>\n      <td>2024-02-15</td>\n      <td>2839144240660</td>\n    </tr>\n    <tr>\n      <th>32</th>\n      <td>AAPL.OQ</td>\n      <td>2024-02-16</td>\n      <td>2815209325110</td>\n    </tr>\n    <tr>\n      <th>33</th>\n      <td>AAPL.OQ</td>\n      <td>2024-02-20</td>\n      <td>2803627914360</td>\n    </tr>\n    <tr>\n      <th>34</th>\n      <td>AAPL.OQ</td>\n      <td>2024-02-21</td>\n      <td>2815363743920</td>\n    </tr>\n  </tbody>\n</table>\n</div>"
     },
     "execution_count": 9,
     "metadata": {},
     "output_type": "execute_result"
    }
   ],
   "source": [
    "rd.get_data(\n",
    "    universe=['AAPL.OQ'],\n",
    "    fields=['TR.CompanyMarketCapitalization.date', 'TR.CompanyMarketCapitalization'],\n",
    "    parameters = {'SDate':'2024-01-01', 'EDate':'2024-02-21', 'Frq':'D'}\n",
    ")"
   ],
   "metadata": {
    "collapsed": false,
    "ExecuteTime": {
     "end_time": "2024-02-23T13:32:07.915248Z",
     "start_time": "2024-02-23T13:32:07.231399Z"
    }
   }
  },
  {
   "cell_type": "markdown",
   "source": [
    "We can also include other variables of interest"
   ],
   "metadata": {
    "collapsed": false
   }
  },
  {
   "cell_type": "code",
   "execution_count": 18,
   "outputs": [
    {
     "data": {
      "text/plain": "   Instrument       Date  Company Market Capitalization  Bid Price  Ask Price  \\\n0     AAPL.OQ 2024-01-02                  2870346373440      185.5     185.53   \n1     AAPL.OQ 2024-01-03                  2848854338000     184.23     184.25   \n2     AAPL.OQ 2024-01-04                  2812673501360      181.9     181.92   \n3     AAPL.OQ 2024-01-05                  2801386317280     181.17     181.19   \n4     AAPL.OQ 2024-01-08                  2869109421760     185.54     185.56   \n5     AAPL.OQ 2024-01-09                  2862615425440     185.12     185.13   \n6     AAPL.OQ 2024-01-10                  2878850416240     186.14     186.18   \n7     AAPL.OQ 2024-01-11                  2869573278640     185.58     185.59   \n8     AAPL.OQ 2024-01-12                  2874675704320     185.91     185.92   \n9     AAPL.OQ 2024-01-16                  2839267962480      183.6     183.61   \n10    AAPL.OQ 2024-01-17                  2824579161280     182.65     182.66   \n11    AAPL.OQ 2024-01-18                  2916577442480     188.72     188.73   \n12    AAPL.OQ 2024-01-19                  2958046724360     191.56     191.59   \n13    AAPL.OQ 2024-01-22                  2994026307090     193.87     193.89   \n14    AAPL.OQ 2024-01-23                  3013946333580     195.14     195.16   \n15    AAPL.OQ 2024-01-24                  3003445854500      194.5     194.52   \n16    AAPL.OQ 2024-01-25                  2998350033770     194.17     194.19   \n17    AAPL.OQ 2024-01-26                  2971326742020      192.4     192.42   \n18    AAPL.OQ 2024-01-29                  2960671844130     191.78      191.8   \n19    AAPL.OQ 2024-01-30                  2903691303240     187.97     187.99   \n20    AAPL.OQ 2024-01-31                  2847482856400     184.38     184.45   \n21    AAPL.OQ 2024-02-01                  2885469883660     186.89      186.9   \n22    AAPL.OQ 2024-02-02                  2869873583850     185.83     185.87   \n23    AAPL.OQ 2024-02-05                  2898132226080     187.65     187.69   \n24    AAPL.OQ 2024-02-06                  2923148073300     189.28     189.31   \n25    AAPL.OQ 2024-02-07                  2924846680210      189.4     189.41   \n26    AAPL.OQ 2024-02-08                  2908015029920     188.32     188.35   \n27    AAPL.OQ 2024-02-09                  2916199226850     188.83     188.84   \n28    AAPL.OQ 2024-02-12                  2889948029150     187.17     187.19   \n29    AAPL.OQ 2024-02-13                  2857365660240     185.02     185.04   \n30    AAPL.OQ 2024-02-14                  2843622386150     184.01     184.05   \n31    AAPL.OQ 2024-02-15                  2839144240660     183.91     183.94   \n32    AAPL.OQ 2024-02-16                  2815209325110     182.29      182.3   \n33    AAPL.OQ 2024-02-20                  2803627914360     181.61     181.63   \n34    AAPL.OQ 2024-02-20                  2803627914360     181.61     181.63   \n\n    High Price  Low Price  \n0       188.43     183.89  \n1       185.87     183.44  \n2       183.08     180.88  \n3       182.76     180.18  \n4       185.59      181.5  \n5       185.15     182.73  \n6      186.395     183.92  \n7       187.04     183.62  \n8       186.73     185.19  \n9      184.255     180.94  \n10      182.93     180.31  \n11     189.135     185.84  \n12      191.95     188.82  \n13      195.33     192.26  \n14      195.75     193.83  \n15      196.37     194.35  \n16      196.26    193.115  \n17      194.76     191.94  \n18     192.195     189.59  \n19       191.8     187.47  \n20       187.0     184.36  \n21      186.95     183.82  \n22      187.31     179.25  \n23      189.25     185.84  \n24      189.31     186.78  \n25      191.03     188.62  \n26      189.52     187.35  \n27      189.99      188.0  \n28      188.66     186.79  \n29      186.21     183.52  \n30      185.53     182.44  \n31      184.49      181.4  \n32      184.85     181.67  \n33      182.43      180.0  \n34      182.43      180.0  ",
      "text/html": "<div>\n<style scoped>\n    .dataframe tbody tr th:only-of-type {\n        vertical-align: middle;\n    }\n\n    .dataframe tbody tr th {\n        vertical-align: top;\n    }\n\n    .dataframe thead th {\n        text-align: right;\n    }\n</style>\n<table border=\"1\" class=\"dataframe\">\n  <thead>\n    <tr style=\"text-align: right;\">\n      <th></th>\n      <th>Instrument</th>\n      <th>Date</th>\n      <th>Company Market Capitalization</th>\n      <th>Bid Price</th>\n      <th>Ask Price</th>\n      <th>High Price</th>\n      <th>Low Price</th>\n    </tr>\n  </thead>\n  <tbody>\n    <tr>\n      <th>0</th>\n      <td>AAPL.OQ</td>\n      <td>2024-01-02</td>\n      <td>2870346373440</td>\n      <td>185.5</td>\n      <td>185.53</td>\n      <td>188.43</td>\n      <td>183.89</td>\n    </tr>\n    <tr>\n      <th>1</th>\n      <td>AAPL.OQ</td>\n      <td>2024-01-03</td>\n      <td>2848854338000</td>\n      <td>184.23</td>\n      <td>184.25</td>\n      <td>185.87</td>\n      <td>183.44</td>\n    </tr>\n    <tr>\n      <th>2</th>\n      <td>AAPL.OQ</td>\n      <td>2024-01-04</td>\n      <td>2812673501360</td>\n      <td>181.9</td>\n      <td>181.92</td>\n      <td>183.08</td>\n      <td>180.88</td>\n    </tr>\n    <tr>\n      <th>3</th>\n      <td>AAPL.OQ</td>\n      <td>2024-01-05</td>\n      <td>2801386317280</td>\n      <td>181.17</td>\n      <td>181.19</td>\n      <td>182.76</td>\n      <td>180.18</td>\n    </tr>\n    <tr>\n      <th>4</th>\n      <td>AAPL.OQ</td>\n      <td>2024-01-08</td>\n      <td>2869109421760</td>\n      <td>185.54</td>\n      <td>185.56</td>\n      <td>185.59</td>\n      <td>181.5</td>\n    </tr>\n    <tr>\n      <th>5</th>\n      <td>AAPL.OQ</td>\n      <td>2024-01-09</td>\n      <td>2862615425440</td>\n      <td>185.12</td>\n      <td>185.13</td>\n      <td>185.15</td>\n      <td>182.73</td>\n    </tr>\n    <tr>\n      <th>6</th>\n      <td>AAPL.OQ</td>\n      <td>2024-01-10</td>\n      <td>2878850416240</td>\n      <td>186.14</td>\n      <td>186.18</td>\n      <td>186.395</td>\n      <td>183.92</td>\n    </tr>\n    <tr>\n      <th>7</th>\n      <td>AAPL.OQ</td>\n      <td>2024-01-11</td>\n      <td>2869573278640</td>\n      <td>185.58</td>\n      <td>185.59</td>\n      <td>187.04</td>\n      <td>183.62</td>\n    </tr>\n    <tr>\n      <th>8</th>\n      <td>AAPL.OQ</td>\n      <td>2024-01-12</td>\n      <td>2874675704320</td>\n      <td>185.91</td>\n      <td>185.92</td>\n      <td>186.73</td>\n      <td>185.19</td>\n    </tr>\n    <tr>\n      <th>9</th>\n      <td>AAPL.OQ</td>\n      <td>2024-01-16</td>\n      <td>2839267962480</td>\n      <td>183.6</td>\n      <td>183.61</td>\n      <td>184.255</td>\n      <td>180.94</td>\n    </tr>\n    <tr>\n      <th>10</th>\n      <td>AAPL.OQ</td>\n      <td>2024-01-17</td>\n      <td>2824579161280</td>\n      <td>182.65</td>\n      <td>182.66</td>\n      <td>182.93</td>\n      <td>180.31</td>\n    </tr>\n    <tr>\n      <th>11</th>\n      <td>AAPL.OQ</td>\n      <td>2024-01-18</td>\n      <td>2916577442480</td>\n      <td>188.72</td>\n      <td>188.73</td>\n      <td>189.135</td>\n      <td>185.84</td>\n    </tr>\n    <tr>\n      <th>12</th>\n      <td>AAPL.OQ</td>\n      <td>2024-01-19</td>\n      <td>2958046724360</td>\n      <td>191.56</td>\n      <td>191.59</td>\n      <td>191.95</td>\n      <td>188.82</td>\n    </tr>\n    <tr>\n      <th>13</th>\n      <td>AAPL.OQ</td>\n      <td>2024-01-22</td>\n      <td>2994026307090</td>\n      <td>193.87</td>\n      <td>193.89</td>\n      <td>195.33</td>\n      <td>192.26</td>\n    </tr>\n    <tr>\n      <th>14</th>\n      <td>AAPL.OQ</td>\n      <td>2024-01-23</td>\n      <td>3013946333580</td>\n      <td>195.14</td>\n      <td>195.16</td>\n      <td>195.75</td>\n      <td>193.83</td>\n    </tr>\n    <tr>\n      <th>15</th>\n      <td>AAPL.OQ</td>\n      <td>2024-01-24</td>\n      <td>3003445854500</td>\n      <td>194.5</td>\n      <td>194.52</td>\n      <td>196.37</td>\n      <td>194.35</td>\n    </tr>\n    <tr>\n      <th>16</th>\n      <td>AAPL.OQ</td>\n      <td>2024-01-25</td>\n      <td>2998350033770</td>\n      <td>194.17</td>\n      <td>194.19</td>\n      <td>196.26</td>\n      <td>193.115</td>\n    </tr>\n    <tr>\n      <th>17</th>\n      <td>AAPL.OQ</td>\n      <td>2024-01-26</td>\n      <td>2971326742020</td>\n      <td>192.4</td>\n      <td>192.42</td>\n      <td>194.76</td>\n      <td>191.94</td>\n    </tr>\n    <tr>\n      <th>18</th>\n      <td>AAPL.OQ</td>\n      <td>2024-01-29</td>\n      <td>2960671844130</td>\n      <td>191.78</td>\n      <td>191.8</td>\n      <td>192.195</td>\n      <td>189.59</td>\n    </tr>\n    <tr>\n      <th>19</th>\n      <td>AAPL.OQ</td>\n      <td>2024-01-30</td>\n      <td>2903691303240</td>\n      <td>187.97</td>\n      <td>187.99</td>\n      <td>191.8</td>\n      <td>187.47</td>\n    </tr>\n    <tr>\n      <th>20</th>\n      <td>AAPL.OQ</td>\n      <td>2024-01-31</td>\n      <td>2847482856400</td>\n      <td>184.38</td>\n      <td>184.45</td>\n      <td>187.0</td>\n      <td>184.36</td>\n    </tr>\n    <tr>\n      <th>21</th>\n      <td>AAPL.OQ</td>\n      <td>2024-02-01</td>\n      <td>2885469883660</td>\n      <td>186.89</td>\n      <td>186.9</td>\n      <td>186.95</td>\n      <td>183.82</td>\n    </tr>\n    <tr>\n      <th>22</th>\n      <td>AAPL.OQ</td>\n      <td>2024-02-02</td>\n      <td>2869873583850</td>\n      <td>185.83</td>\n      <td>185.87</td>\n      <td>187.31</td>\n      <td>179.25</td>\n    </tr>\n    <tr>\n      <th>23</th>\n      <td>AAPL.OQ</td>\n      <td>2024-02-05</td>\n      <td>2898132226080</td>\n      <td>187.65</td>\n      <td>187.69</td>\n      <td>189.25</td>\n      <td>185.84</td>\n    </tr>\n    <tr>\n      <th>24</th>\n      <td>AAPL.OQ</td>\n      <td>2024-02-06</td>\n      <td>2923148073300</td>\n      <td>189.28</td>\n      <td>189.31</td>\n      <td>189.31</td>\n      <td>186.78</td>\n    </tr>\n    <tr>\n      <th>25</th>\n      <td>AAPL.OQ</td>\n      <td>2024-02-07</td>\n      <td>2924846680210</td>\n      <td>189.4</td>\n      <td>189.41</td>\n      <td>191.03</td>\n      <td>188.62</td>\n    </tr>\n    <tr>\n      <th>26</th>\n      <td>AAPL.OQ</td>\n      <td>2024-02-08</td>\n      <td>2908015029920</td>\n      <td>188.32</td>\n      <td>188.35</td>\n      <td>189.52</td>\n      <td>187.35</td>\n    </tr>\n    <tr>\n      <th>27</th>\n      <td>AAPL.OQ</td>\n      <td>2024-02-09</td>\n      <td>2916199226850</td>\n      <td>188.83</td>\n      <td>188.84</td>\n      <td>189.99</td>\n      <td>188.0</td>\n    </tr>\n    <tr>\n      <th>28</th>\n      <td>AAPL.OQ</td>\n      <td>2024-02-12</td>\n      <td>2889948029150</td>\n      <td>187.17</td>\n      <td>187.19</td>\n      <td>188.66</td>\n      <td>186.79</td>\n    </tr>\n    <tr>\n      <th>29</th>\n      <td>AAPL.OQ</td>\n      <td>2024-02-13</td>\n      <td>2857365660240</td>\n      <td>185.02</td>\n      <td>185.04</td>\n      <td>186.21</td>\n      <td>183.52</td>\n    </tr>\n    <tr>\n      <th>30</th>\n      <td>AAPL.OQ</td>\n      <td>2024-02-14</td>\n      <td>2843622386150</td>\n      <td>184.01</td>\n      <td>184.05</td>\n      <td>185.53</td>\n      <td>182.44</td>\n    </tr>\n    <tr>\n      <th>31</th>\n      <td>AAPL.OQ</td>\n      <td>2024-02-15</td>\n      <td>2839144240660</td>\n      <td>183.91</td>\n      <td>183.94</td>\n      <td>184.49</td>\n      <td>181.4</td>\n    </tr>\n    <tr>\n      <th>32</th>\n      <td>AAPL.OQ</td>\n      <td>2024-02-16</td>\n      <td>2815209325110</td>\n      <td>182.29</td>\n      <td>182.3</td>\n      <td>184.85</td>\n      <td>181.67</td>\n    </tr>\n    <tr>\n      <th>33</th>\n      <td>AAPL.OQ</td>\n      <td>2024-02-20</td>\n      <td>2803627914360</td>\n      <td>181.61</td>\n      <td>181.63</td>\n      <td>182.43</td>\n      <td>180.0</td>\n    </tr>\n    <tr>\n      <th>34</th>\n      <td>AAPL.OQ</td>\n      <td>2024-02-20</td>\n      <td>2803627914360</td>\n      <td>181.61</td>\n      <td>181.63</td>\n      <td>182.43</td>\n      <td>180.0</td>\n    </tr>\n  </tbody>\n</table>\n</div>"
     },
     "execution_count": 18,
     "metadata": {},
     "output_type": "execute_result"
    }
   ],
   "source": [
    "rd.get_data(\n",
    "    universe=['AAPL.OQ'],\n",
    "    fields=['TR.CompanyMarketCapitalization.date', 'TR.CompanyMarketCapitalization', 'TR.BIDPRICE', 'TR.ASKPRICE', 'TR.HIGHPRICE', 'TR.LOWPRICE'],\n",
    "    parameters = {'SDate':'2024-01-01', 'EDate':'2024-02-21', 'Frq':'D'}\n",
    ")"
   ],
   "metadata": {
    "collapsed": false,
    "ExecuteTime": {
     "end_time": "2024-02-21T10:22:56.939269200Z",
     "start_time": "2024-02-21T10:22:53.546360800Z"
    }
   }
  },
  {
   "cell_type": "markdown",
   "source": [
    "Refinity offers the \"get_history()\" function to retrieve historical price data."
   ],
   "metadata": {
    "collapsed": false
   }
  },
  {
   "cell_type": "code",
   "execution_count": 27,
   "outputs": [
    {
     "data": {
      "text/plain": "AAPL.OQ     TRDPRC_1   HIGH_1    LOW_1  ACVOL_UNS  OPEN_PRC     BID     ASK  \\\nDate                                                                          \n2024-01-23    195.18   195.75   193.83   11003516     195.0  195.14  195.16   \n2024-01-24     194.5   196.37   194.35   14498516   195.505   194.5  194.52   \n2024-01-25    194.17   196.26  193.115   15502005     195.2  194.17  194.19   \n2024-01-26    192.42   194.76   191.94   13893779    194.17   192.4  192.42   \n2024-01-29    191.73  192.195   189.59   14005433    191.99  191.78   191.8   \n2024-01-30    188.04    191.8   187.47   13379033    190.84  187.97  187.99   \n2024-01-31     184.4    187.0   184.36   17757463     187.0  184.38  184.45   \n2024-02-01    186.86   186.95   183.82   16281081     183.9  186.89   186.9   \n2024-02-02    185.85   187.31   179.25   27604918    179.96  185.83  185.87   \n2024-02-05    187.68   189.25   185.84   19013145    188.07  187.65  187.69   \n2024-02-06     189.3   189.31   186.78   12063570    186.85  189.28  189.31   \n2024-02-07    189.41   191.03   188.62   17386899    190.51   189.4  189.41   \n2024-02-08    188.32   189.52   187.35   11620521    189.34  188.32  188.35   \n2024-02-09    188.85   189.99    188.0   15115543    188.75  188.83  188.84   \n2024-02-12    187.15   188.66   186.79   14672712    188.35  187.17  187.19   \n2024-02-13    185.04   186.21   183.52   15649924    185.81  185.02  185.04   \n2024-02-14    184.15   185.53   182.44   14879270     185.3  184.01  184.05   \n2024-02-15    183.86   184.49    181.4   17729376    183.55  183.91  183.94   \n2024-02-16    182.31   184.85   181.67   14561824    183.62  182.29   182.3   \n2024-02-20    181.56   182.43    180.0   15322687    181.74  181.61  181.63   \n\nAAPL.OQ     TRNOVR_UNS      VWAP  BLKCOUNT  BLKVOLUM  NUM_MOVES  TRD_STATUS  \\\nDate                                                                          \n2024-01-23  2144676378   194.926         3   3945051      93574           1   \n2024-01-24  2827058931   194.991         7   6496101     104094           1   \n2024-01-25  3017260026  194.6412         3   5813491     123890           1   \n2024-01-26  2679862560  192.8731         2   6283302      93157           1   \n2024-01-29  2681933991  191.4875         6   7200007      95459           1   \n2024-01-30  2524483569  188.6887         3   5454821     123771           1   \n2024-01-31  3286014090  185.0326         2   9262813     132781           1   \n2024-02-01  3022736501  186.2064        10   5862336     145874           1   \n2024-02-02  5096284452  184.7255        18  10457155     234042           1   \n2024-02-05  3570090422  187.7833         5   7040471     150672           1   \n2024-02-06  2276194609  188.6898         9   5346600      79308           1   \n2024-02-07  3293637368  189.4242         6   7354589     117885           1   \n2024-02-08  2188879425  188.3582         4   4978082      78462           1   \n2024-02-09  2856239787  188.9622         4   6639033      92176           1   \n2024-02-12  2750850438  187.4706         9   6857110      91787           1   \n2024-02-13  2895804339  185.0285         5   6926053     114777           1   \n2024-02-14  2735058596   183.821         4   5673101     122520           1   \n2024-02-15  3246987572  183.0851        11   6385830     141129           1   \n2024-02-16  2660590596  182.6945         4   6708976     103358           1   \n2024-02-20  2777070665  181.2308        12   6387845     119129           1   \n\nAAPL.OQ     SALTIM  CLS_AUCVOL  OPN_AUCVOL  \nDate                                        \n2024-01-23   75600     3296641      584185  \n2024-01-24   75600     5873072      515743  \n2024-01-25   75600     5127348      675524  \n2024-01-26   75600     5737336      545966  \n2024-01-29   75600     6563975      568661  \n2024-01-30   75600     4912224      532597  \n2024-01-31   75600     8626440      636373  \n2024-02-01   75600     5073836      651567  \n2024-02-02   75600     8319880     1894683  \n2024-02-05   75600     5974557     1028532  \n2024-02-06   75600     4585955      640008  \n2024-02-07   75600     6571885      729195  \n2024-02-08   75600     4511914      439741  \n2024-02-09   75600     6159490      444173  \n2024-02-12   75600     6131866      622590  \n2024-02-13   75600     6296016      597324  \n2024-02-14   75600     5241911      404526  \n2024-02-15   75600     5447092      793066  \n2024-02-16   75600     4890625     1797451  \n2024-02-20   75600     5166854     1071035  ",
      "text/html": "<div>\n<style scoped>\n    .dataframe tbody tr th:only-of-type {\n        vertical-align: middle;\n    }\n\n    .dataframe tbody tr th {\n        vertical-align: top;\n    }\n\n    .dataframe thead th {\n        text-align: right;\n    }\n</style>\n<table border=\"1\" class=\"dataframe\">\n  <thead>\n    <tr style=\"text-align: right;\">\n      <th>AAPL.OQ</th>\n      <th>TRDPRC_1</th>\n      <th>HIGH_1</th>\n      <th>LOW_1</th>\n      <th>ACVOL_UNS</th>\n      <th>OPEN_PRC</th>\n      <th>BID</th>\n      <th>ASK</th>\n      <th>TRNOVR_UNS</th>\n      <th>VWAP</th>\n      <th>BLKCOUNT</th>\n      <th>BLKVOLUM</th>\n      <th>NUM_MOVES</th>\n      <th>TRD_STATUS</th>\n      <th>SALTIM</th>\n      <th>CLS_AUCVOL</th>\n      <th>OPN_AUCVOL</th>\n    </tr>\n    <tr>\n      <th>Date</th>\n      <th></th>\n      <th></th>\n      <th></th>\n      <th></th>\n      <th></th>\n      <th></th>\n      <th></th>\n      <th></th>\n      <th></th>\n      <th></th>\n      <th></th>\n      <th></th>\n      <th></th>\n      <th></th>\n      <th></th>\n      <th></th>\n    </tr>\n  </thead>\n  <tbody>\n    <tr>\n      <th>2024-01-23</th>\n      <td>195.18</td>\n      <td>195.75</td>\n      <td>193.83</td>\n      <td>11003516</td>\n      <td>195.0</td>\n      <td>195.14</td>\n      <td>195.16</td>\n      <td>2144676378</td>\n      <td>194.926</td>\n      <td>3</td>\n      <td>3945051</td>\n      <td>93574</td>\n      <td>1</td>\n      <td>75600</td>\n      <td>3296641</td>\n      <td>584185</td>\n    </tr>\n    <tr>\n      <th>2024-01-24</th>\n      <td>194.5</td>\n      <td>196.37</td>\n      <td>194.35</td>\n      <td>14498516</td>\n      <td>195.505</td>\n      <td>194.5</td>\n      <td>194.52</td>\n      <td>2827058931</td>\n      <td>194.991</td>\n      <td>7</td>\n      <td>6496101</td>\n      <td>104094</td>\n      <td>1</td>\n      <td>75600</td>\n      <td>5873072</td>\n      <td>515743</td>\n    </tr>\n    <tr>\n      <th>2024-01-25</th>\n      <td>194.17</td>\n      <td>196.26</td>\n      <td>193.115</td>\n      <td>15502005</td>\n      <td>195.2</td>\n      <td>194.17</td>\n      <td>194.19</td>\n      <td>3017260026</td>\n      <td>194.6412</td>\n      <td>3</td>\n      <td>5813491</td>\n      <td>123890</td>\n      <td>1</td>\n      <td>75600</td>\n      <td>5127348</td>\n      <td>675524</td>\n    </tr>\n    <tr>\n      <th>2024-01-26</th>\n      <td>192.42</td>\n      <td>194.76</td>\n      <td>191.94</td>\n      <td>13893779</td>\n      <td>194.17</td>\n      <td>192.4</td>\n      <td>192.42</td>\n      <td>2679862560</td>\n      <td>192.8731</td>\n      <td>2</td>\n      <td>6283302</td>\n      <td>93157</td>\n      <td>1</td>\n      <td>75600</td>\n      <td>5737336</td>\n      <td>545966</td>\n    </tr>\n    <tr>\n      <th>2024-01-29</th>\n      <td>191.73</td>\n      <td>192.195</td>\n      <td>189.59</td>\n      <td>14005433</td>\n      <td>191.99</td>\n      <td>191.78</td>\n      <td>191.8</td>\n      <td>2681933991</td>\n      <td>191.4875</td>\n      <td>6</td>\n      <td>7200007</td>\n      <td>95459</td>\n      <td>1</td>\n      <td>75600</td>\n      <td>6563975</td>\n      <td>568661</td>\n    </tr>\n    <tr>\n      <th>2024-01-30</th>\n      <td>188.04</td>\n      <td>191.8</td>\n      <td>187.47</td>\n      <td>13379033</td>\n      <td>190.84</td>\n      <td>187.97</td>\n      <td>187.99</td>\n      <td>2524483569</td>\n      <td>188.6887</td>\n      <td>3</td>\n      <td>5454821</td>\n      <td>123771</td>\n      <td>1</td>\n      <td>75600</td>\n      <td>4912224</td>\n      <td>532597</td>\n    </tr>\n    <tr>\n      <th>2024-01-31</th>\n      <td>184.4</td>\n      <td>187.0</td>\n      <td>184.36</td>\n      <td>17757463</td>\n      <td>187.0</td>\n      <td>184.38</td>\n      <td>184.45</td>\n      <td>3286014090</td>\n      <td>185.0326</td>\n      <td>2</td>\n      <td>9262813</td>\n      <td>132781</td>\n      <td>1</td>\n      <td>75600</td>\n      <td>8626440</td>\n      <td>636373</td>\n    </tr>\n    <tr>\n      <th>2024-02-01</th>\n      <td>186.86</td>\n      <td>186.95</td>\n      <td>183.82</td>\n      <td>16281081</td>\n      <td>183.9</td>\n      <td>186.89</td>\n      <td>186.9</td>\n      <td>3022736501</td>\n      <td>186.2064</td>\n      <td>10</td>\n      <td>5862336</td>\n      <td>145874</td>\n      <td>1</td>\n      <td>75600</td>\n      <td>5073836</td>\n      <td>651567</td>\n    </tr>\n    <tr>\n      <th>2024-02-02</th>\n      <td>185.85</td>\n      <td>187.31</td>\n      <td>179.25</td>\n      <td>27604918</td>\n      <td>179.96</td>\n      <td>185.83</td>\n      <td>185.87</td>\n      <td>5096284452</td>\n      <td>184.7255</td>\n      <td>18</td>\n      <td>10457155</td>\n      <td>234042</td>\n      <td>1</td>\n      <td>75600</td>\n      <td>8319880</td>\n      <td>1894683</td>\n    </tr>\n    <tr>\n      <th>2024-02-05</th>\n      <td>187.68</td>\n      <td>189.25</td>\n      <td>185.84</td>\n      <td>19013145</td>\n      <td>188.07</td>\n      <td>187.65</td>\n      <td>187.69</td>\n      <td>3570090422</td>\n      <td>187.7833</td>\n      <td>5</td>\n      <td>7040471</td>\n      <td>150672</td>\n      <td>1</td>\n      <td>75600</td>\n      <td>5974557</td>\n      <td>1028532</td>\n    </tr>\n    <tr>\n      <th>2024-02-06</th>\n      <td>189.3</td>\n      <td>189.31</td>\n      <td>186.78</td>\n      <td>12063570</td>\n      <td>186.85</td>\n      <td>189.28</td>\n      <td>189.31</td>\n      <td>2276194609</td>\n      <td>188.6898</td>\n      <td>9</td>\n      <td>5346600</td>\n      <td>79308</td>\n      <td>1</td>\n      <td>75600</td>\n      <td>4585955</td>\n      <td>640008</td>\n    </tr>\n    <tr>\n      <th>2024-02-07</th>\n      <td>189.41</td>\n      <td>191.03</td>\n      <td>188.62</td>\n      <td>17386899</td>\n      <td>190.51</td>\n      <td>189.4</td>\n      <td>189.41</td>\n      <td>3293637368</td>\n      <td>189.4242</td>\n      <td>6</td>\n      <td>7354589</td>\n      <td>117885</td>\n      <td>1</td>\n      <td>75600</td>\n      <td>6571885</td>\n      <td>729195</td>\n    </tr>\n    <tr>\n      <th>2024-02-08</th>\n      <td>188.32</td>\n      <td>189.52</td>\n      <td>187.35</td>\n      <td>11620521</td>\n      <td>189.34</td>\n      <td>188.32</td>\n      <td>188.35</td>\n      <td>2188879425</td>\n      <td>188.3582</td>\n      <td>4</td>\n      <td>4978082</td>\n      <td>78462</td>\n      <td>1</td>\n      <td>75600</td>\n      <td>4511914</td>\n      <td>439741</td>\n    </tr>\n    <tr>\n      <th>2024-02-09</th>\n      <td>188.85</td>\n      <td>189.99</td>\n      <td>188.0</td>\n      <td>15115543</td>\n      <td>188.75</td>\n      <td>188.83</td>\n      <td>188.84</td>\n      <td>2856239787</td>\n      <td>188.9622</td>\n      <td>4</td>\n      <td>6639033</td>\n      <td>92176</td>\n      <td>1</td>\n      <td>75600</td>\n      <td>6159490</td>\n      <td>444173</td>\n    </tr>\n    <tr>\n      <th>2024-02-12</th>\n      <td>187.15</td>\n      <td>188.66</td>\n      <td>186.79</td>\n      <td>14672712</td>\n      <td>188.35</td>\n      <td>187.17</td>\n      <td>187.19</td>\n      <td>2750850438</td>\n      <td>187.4706</td>\n      <td>9</td>\n      <td>6857110</td>\n      <td>91787</td>\n      <td>1</td>\n      <td>75600</td>\n      <td>6131866</td>\n      <td>622590</td>\n    </tr>\n    <tr>\n      <th>2024-02-13</th>\n      <td>185.04</td>\n      <td>186.21</td>\n      <td>183.52</td>\n      <td>15649924</td>\n      <td>185.81</td>\n      <td>185.02</td>\n      <td>185.04</td>\n      <td>2895804339</td>\n      <td>185.0285</td>\n      <td>5</td>\n      <td>6926053</td>\n      <td>114777</td>\n      <td>1</td>\n      <td>75600</td>\n      <td>6296016</td>\n      <td>597324</td>\n    </tr>\n    <tr>\n      <th>2024-02-14</th>\n      <td>184.15</td>\n      <td>185.53</td>\n      <td>182.44</td>\n      <td>14879270</td>\n      <td>185.3</td>\n      <td>184.01</td>\n      <td>184.05</td>\n      <td>2735058596</td>\n      <td>183.821</td>\n      <td>4</td>\n      <td>5673101</td>\n      <td>122520</td>\n      <td>1</td>\n      <td>75600</td>\n      <td>5241911</td>\n      <td>404526</td>\n    </tr>\n    <tr>\n      <th>2024-02-15</th>\n      <td>183.86</td>\n      <td>184.49</td>\n      <td>181.4</td>\n      <td>17729376</td>\n      <td>183.55</td>\n      <td>183.91</td>\n      <td>183.94</td>\n      <td>3246987572</td>\n      <td>183.0851</td>\n      <td>11</td>\n      <td>6385830</td>\n      <td>141129</td>\n      <td>1</td>\n      <td>75600</td>\n      <td>5447092</td>\n      <td>793066</td>\n    </tr>\n    <tr>\n      <th>2024-02-16</th>\n      <td>182.31</td>\n      <td>184.85</td>\n      <td>181.67</td>\n      <td>14561824</td>\n      <td>183.62</td>\n      <td>182.29</td>\n      <td>182.3</td>\n      <td>2660590596</td>\n      <td>182.6945</td>\n      <td>4</td>\n      <td>6708976</td>\n      <td>103358</td>\n      <td>1</td>\n      <td>75600</td>\n      <td>4890625</td>\n      <td>1797451</td>\n    </tr>\n    <tr>\n      <th>2024-02-20</th>\n      <td>181.56</td>\n      <td>182.43</td>\n      <td>180.0</td>\n      <td>15322687</td>\n      <td>181.74</td>\n      <td>181.61</td>\n      <td>181.63</td>\n      <td>2777070665</td>\n      <td>181.2308</td>\n      <td>12</td>\n      <td>6387845</td>\n      <td>119129</td>\n      <td>1</td>\n      <td>75600</td>\n      <td>5166854</td>\n      <td>1071035</td>\n    </tr>\n  </tbody>\n</table>\n</div>"
     },
     "execution_count": 27,
     "metadata": {},
     "output_type": "execute_result"
    }
   ],
   "source": [
    "rd.get_history(universe='AAPL.OQ')"
   ],
   "metadata": {
    "collapsed": false,
    "ExecuteTime": {
     "end_time": "2024-02-21T13:48:22.352359Z",
     "start_time": "2024-02-21T13:48:20.839396300Z"
    }
   }
  },
  {
   "cell_type": "markdown",
   "source": [
    "For analyses of multiple companies we can provide a list of companies"
   ],
   "metadata": {
    "collapsed": false
   }
  },
  {
   "cell_type": "code",
   "execution_count": 22,
   "outputs": [
    {
     "name": "stderr",
     "output_type": "stream",
     "text": [
      "A:\\Data\\GermanBusinessPanelTeam\\Schrader\\PycharmProjects\\TutorialACC540\\venv\\lib\\site-packages\\pandas\\core\\dtypes\\cast.py:1057:RuntimeWarning: invalid value encountered in cast\n",
      "A:\\Data\\GermanBusinessPanelTeam\\Schrader\\PycharmProjects\\TutorialACC540\\venv\\lib\\site-packages\\pandas\\core\\dtypes\\cast.py:1081:RuntimeWarning: invalid value encountered in cast\n"
     ]
    },
    {
     "data": {
      "text/plain": "   Instrument       Date  Company Market Capitalization\n0     AAPL.OQ 2024-02-20                2803627914360.0\n1     AAPL.OQ 2024-02-16                2815209325110.0\n2     AAPL.OQ 2024-02-15                2839144240660.0\n3     AAPL.OQ 2024-02-14                2843622386150.0\n4     AAPL.OQ 2024-02-13                2857365660240.0\n5     AAPL.OQ 2024-02-12                2889948029150.0\n6     AAPL.OQ 2024-02-09                2916199226850.0\n7     AAPL.OQ 2024-02-08                2908015029920.0\n8     AAPL.OQ 2024-02-07                2924846680210.0\n9     AAPL.OQ 2024-02-06                2923148073300.0\n10    AAPL.OQ 2024-02-05                2898132226080.0\n11     TSLA.O 2024-02-20            617084990810.400024\n12     TSLA.O 2024-02-16                636798843479.25\n13     TSLA.O 2024-02-15                638391238686.75\n14     TSLA.O 2024-02-14            601001799214.650024\n15     TSLA.O 2024-02-13            586065132168.300049\n16     TSLA.O 2024-02-12            599154620773.949951\n17     TSLA.O 2024-02-09            616479880631.550049\n18     TSLA.O 2024-02-08            603708871067.400024\n19     TSLA.O 2024-02-07            597402986045.699951\n20     TSLA.O 2024-02-06                 589504705816.5\n21     TSLA.O 2024-02-05            576638152539.900024",
      "text/html": "<div>\n<style scoped>\n    .dataframe tbody tr th:only-of-type {\n        vertical-align: middle;\n    }\n\n    .dataframe tbody tr th {\n        vertical-align: top;\n    }\n\n    .dataframe thead th {\n        text-align: right;\n    }\n</style>\n<table border=\"1\" class=\"dataframe\">\n  <thead>\n    <tr style=\"text-align: right;\">\n      <th></th>\n      <th>Instrument</th>\n      <th>Date</th>\n      <th>Company Market Capitalization</th>\n    </tr>\n  </thead>\n  <tbody>\n    <tr>\n      <th>0</th>\n      <td>AAPL.OQ</td>\n      <td>2024-02-20</td>\n      <td>2803627914360.0</td>\n    </tr>\n    <tr>\n      <th>1</th>\n      <td>AAPL.OQ</td>\n      <td>2024-02-16</td>\n      <td>2815209325110.0</td>\n    </tr>\n    <tr>\n      <th>2</th>\n      <td>AAPL.OQ</td>\n      <td>2024-02-15</td>\n      <td>2839144240660.0</td>\n    </tr>\n    <tr>\n      <th>3</th>\n      <td>AAPL.OQ</td>\n      <td>2024-02-14</td>\n      <td>2843622386150.0</td>\n    </tr>\n    <tr>\n      <th>4</th>\n      <td>AAPL.OQ</td>\n      <td>2024-02-13</td>\n      <td>2857365660240.0</td>\n    </tr>\n    <tr>\n      <th>5</th>\n      <td>AAPL.OQ</td>\n      <td>2024-02-12</td>\n      <td>2889948029150.0</td>\n    </tr>\n    <tr>\n      <th>6</th>\n      <td>AAPL.OQ</td>\n      <td>2024-02-09</td>\n      <td>2916199226850.0</td>\n    </tr>\n    <tr>\n      <th>7</th>\n      <td>AAPL.OQ</td>\n      <td>2024-02-08</td>\n      <td>2908015029920.0</td>\n    </tr>\n    <tr>\n      <th>8</th>\n      <td>AAPL.OQ</td>\n      <td>2024-02-07</td>\n      <td>2924846680210.0</td>\n    </tr>\n    <tr>\n      <th>9</th>\n      <td>AAPL.OQ</td>\n      <td>2024-02-06</td>\n      <td>2923148073300.0</td>\n    </tr>\n    <tr>\n      <th>10</th>\n      <td>AAPL.OQ</td>\n      <td>2024-02-05</td>\n      <td>2898132226080.0</td>\n    </tr>\n    <tr>\n      <th>11</th>\n      <td>TSLA.O</td>\n      <td>2024-02-20</td>\n      <td>617084990810.400024</td>\n    </tr>\n    <tr>\n      <th>12</th>\n      <td>TSLA.O</td>\n      <td>2024-02-16</td>\n      <td>636798843479.25</td>\n    </tr>\n    <tr>\n      <th>13</th>\n      <td>TSLA.O</td>\n      <td>2024-02-15</td>\n      <td>638391238686.75</td>\n    </tr>\n    <tr>\n      <th>14</th>\n      <td>TSLA.O</td>\n      <td>2024-02-14</td>\n      <td>601001799214.650024</td>\n    </tr>\n    <tr>\n      <th>15</th>\n      <td>TSLA.O</td>\n      <td>2024-02-13</td>\n      <td>586065132168.300049</td>\n    </tr>\n    <tr>\n      <th>16</th>\n      <td>TSLA.O</td>\n      <td>2024-02-12</td>\n      <td>599154620773.949951</td>\n    </tr>\n    <tr>\n      <th>17</th>\n      <td>TSLA.O</td>\n      <td>2024-02-09</td>\n      <td>616479880631.550049</td>\n    </tr>\n    <tr>\n      <th>18</th>\n      <td>TSLA.O</td>\n      <td>2024-02-08</td>\n      <td>603708871067.400024</td>\n    </tr>\n    <tr>\n      <th>19</th>\n      <td>TSLA.O</td>\n      <td>2024-02-07</td>\n      <td>597402986045.699951</td>\n    </tr>\n    <tr>\n      <th>20</th>\n      <td>TSLA.O</td>\n      <td>2024-02-06</td>\n      <td>589504705816.5</td>\n    </tr>\n    <tr>\n      <th>21</th>\n      <td>TSLA.O</td>\n      <td>2024-02-05</td>\n      <td>576638152539.900024</td>\n    </tr>\n  </tbody>\n</table>\n</div>"
     },
     "execution_count": 22,
     "metadata": {},
     "output_type": "execute_result"
    }
   ],
   "source": [
    "rd.get_data(\n",
    "    universe=['AAPL.OQ', 'TSLA.O'],\n",
    "    fields=['TR.CompanyMarketCapitalization.date', 'TR.CompanyMarketCapitalization'],\n",
    "    parameters = {'SDate':0, 'EDate':-10, 'FRQ':'D'}\n",
    ")"
   ],
   "metadata": {
    "collapsed": false,
    "ExecuteTime": {
     "end_time": "2024-02-21T10:25:45.996139100Z",
     "start_time": "2024-02-21T10:25:43.822873600Z"
    }
   }
  },
  {
   "cell_type": "markdown",
   "source": [
    "We could also look at all companies in a given index.\n",
    "We start by getting all identifiers from companies listed in the S&P 500."
   ],
   "metadata": {
    "collapsed": false
   }
  },
  {
   "cell_type": "code",
   "execution_count": 8,
   "outputs": [
    {
     "name": "stderr",
     "output_type": "stream",
     "text": [
      "/Users/pascalschrader/Library/CloudStorage/OneDrive-uni-mannheim.de/Mannheim/Lehrstuhl/Lehre/ACC_540/2024/Excercise/Tutorial1/ACC540/venv/lib/python3.11/site-packages/refinitiv/dataplatform/legacy/data_grid.py:284:FutureWarning: errors='ignore' is deprecated and will raise in a future version. Use to_numeric without passing `errors` and catch exceptions explicitly instead\n"
     ]
    }
   ],
   "source": [
    "sp500 = ek.get_data(\n",
    "    instruments=\".SPX\",\n",
    "    fields=[\"TR.IndexConstituentRIC\",\"TR.IndexConstituentName\"],\n",
    "    parameters={'SDate':'2024-01-01'})[0]['Constituent RIC'].tolist()"
   ],
   "metadata": {
    "collapsed": false,
    "ExecuteTime": {
     "end_time": "2024-02-23T14:22:30.187874Z",
     "start_time": "2024-02-23T14:22:02.262444Z"
    }
   }
  },
  {
   "cell_type": "code",
   "execution_count": 9,
   "outputs": [
    {
     "data": {
      "text/plain": "['POOL.OQ',\n 'CHRW.OQ',\n 'AJG.N',\n 'CNP.N',\n 'AMCR.N',\n 'WM.N',\n 'BA.N',\n 'FOX.OQ',\n 'WY.N',\n 'MCD.N']"
     },
     "execution_count": 9,
     "metadata": {},
     "output_type": "execute_result"
    }
   ],
   "source": [
    "sp500[:10]"
   ],
   "metadata": {
    "collapsed": false,
    "ExecuteTime": {
     "end_time": "2024-02-23T14:22:33.540053Z",
     "start_time": "2024-02-23T14:22:33.536660Z"
    }
   }
  },
  {
   "cell_type": "markdown",
   "source": [
    "I theory we can submit a list of all instruments of interest, but often the API call will fail if the list is too long."
   ],
   "metadata": {
    "collapsed": false
   }
  },
  {
   "cell_type": "code",
   "execution_count": 21,
   "outputs": [
    {
     "ename": "RDError",
     "evalue": "Error code -1 | No data to return, please check errors: ERROR: No successful response.\n(401, token expired)",
     "output_type": "error",
     "traceback": [
      "\u001B[0;31m---------------------------------------------------------------------------\u001B[0m",
      "\u001B[0;31mRDError\u001B[0m                                   Traceback (most recent call last)",
      "Cell \u001B[0;32mIn[21], line 1\u001B[0m\n\u001B[0;32m----> 1\u001B[0m price \u001B[38;5;241m=\u001B[39m \u001B[43mrd\u001B[49m\u001B[38;5;241;43m.\u001B[39;49m\u001B[43mget_history\u001B[49m\u001B[43m(\u001B[49m\n\u001B[1;32m      2\u001B[0m \u001B[43m    \u001B[49m\u001B[43muniverse\u001B[49m\u001B[38;5;241;43m=\u001B[39;49m\u001B[43msp500\u001B[49m\u001B[43m,\u001B[49m\n\u001B[1;32m      3\u001B[0m \u001B[43m    \u001B[49m\u001B[43mstart\u001B[49m\u001B[43m \u001B[49m\u001B[38;5;241;43m=\u001B[39;49m\u001B[43m \u001B[49m\u001B[38;5;124;43m'\u001B[39;49m\u001B[38;5;124;43m2024-01-01\u001B[39;49m\u001B[38;5;124;43m'\u001B[39;49m\u001B[43m,\u001B[49m\n\u001B[1;32m      4\u001B[0m \u001B[43m    \u001B[49m\u001B[43mend\u001B[49m\u001B[43m \u001B[49m\u001B[38;5;241;43m=\u001B[39;49m\u001B[43m \u001B[49m\u001B[38;5;124;43m'\u001B[39;49m\u001B[38;5;124;43m2024-02-21\u001B[39;49m\u001B[38;5;124;43m'\u001B[39;49m\u001B[43m,\u001B[49m\n\u001B[1;32m      5\u001B[0m \u001B[43m    \u001B[49m\u001B[43minterval\u001B[49m\u001B[43m \u001B[49m\u001B[38;5;241;43m=\u001B[39;49m\u001B[43m \u001B[49m\u001B[38;5;124;43m'\u001B[39;49m\u001B[38;5;124;43mdaily\u001B[39;49m\u001B[38;5;124;43m'\u001B[39;49m\u001B[43m,\u001B[49m\n\u001B[1;32m      6\u001B[0m \u001B[43m    \u001B[49m\u001B[43mfields\u001B[49m\u001B[38;5;241;43m=\u001B[39;49m\u001B[43m[\u001B[49m\u001B[38;5;124;43m'\u001B[39;49m\u001B[38;5;124;43mOPEN_PRC\u001B[39;49m\u001B[38;5;124;43m'\u001B[39;49m\u001B[43m,\u001B[49m\u001B[43m \u001B[49m\u001B[38;5;124;43m'\u001B[39;49m\u001B[38;5;124;43mTRDPRC_1\u001B[39;49m\u001B[38;5;124;43m'\u001B[39;49m\u001B[43m]\u001B[49m\u001B[43m,\u001B[49m\n\u001B[1;32m      7\u001B[0m \u001B[43m    \u001B[49m\u001B[43madjustments\u001B[49m\u001B[38;5;241;43m=\u001B[39;49m\u001B[38;5;124;43m'\u001B[39;49m\u001B[38;5;124;43mexchangeCorrection\u001B[39;49m\u001B[38;5;124;43m'\u001B[39;49m\u001B[43m)\u001B[49m\n",
      "File \u001B[0;32m~/Library/CloudStorage/OneDrive-uni-mannheim.de/Mannheim/Lehrstuhl/Lehre/ACC_540/2024/Excercise/Tutorial1/ACC540/venv/lib/python3.11/site-packages/refinitiv/data/_access_layer/get_history_func.py:206\u001B[0m, in \u001B[0;36mget_history\u001B[0;34m(universe, fields, interval, start, end, adjustments, count, use_field_names_in_headers, parameters)\u001B[0m\n\u001B[1;32m    204\u001B[0m \u001B[38;5;28;01mif\u001B[39;00m exceptions \u001B[38;5;129;01mand\u001B[39;00m \u001B[38;5;28mall\u001B[39m(exceptions):\n\u001B[1;32m    205\u001B[0m     except_msg \u001B[38;5;241m=\u001B[39m \u001B[38;5;124m\"\u001B[39m\u001B[38;5;130;01m\\n\u001B[39;00m\u001B[38;5;130;01m\\n\u001B[39;00m\u001B[38;5;124m\"\u001B[39m\u001B[38;5;241m.\u001B[39mjoin(exceptions)\n\u001B[0;32m--> 206\u001B[0m     \u001B[38;5;28;01mraise\u001B[39;00m RDError(\u001B[38;5;241m-\u001B[39m\u001B[38;5;241m1\u001B[39m, except_msg)\n\u001B[1;32m    208\u001B[0m \u001B[38;5;28;01mif\u001B[39;00m \u001B[38;5;129;01mnot\u001B[39;00m \u001B[38;5;28many\u001B[39m({adc_data, hp_data, cust_inst_data}):\n\u001B[1;32m    209\u001B[0m     \u001B[38;5;28;01mreturn\u001B[39;00m DataFrame()\n",
      "\u001B[0;31mRDError\u001B[0m: Error code -1 | No data to return, please check errors: ERROR: No successful response.\n(401, token expired)"
     ]
    }
   ],
   "source": [
    "price = rd.get_history(\n",
    "    universe=sp500,\n",
    "    start = '2024-01-01',\n",
    "    end = '2024-02-21',\n",
    "    interval = 'daily',\n",
    "    fields=['OPEN_PRC', 'TRDPRC_1'],\n",
    "    adjustments='exchangeCorrection')"
   ],
   "metadata": {
    "collapsed": false,
    "ExecuteTime": {
     "end_time": "2024-02-23T14:10:39.297397Z",
     "start_time": "2024-02-23T14:10:37.149752Z"
    }
   }
  },
  {
   "cell_type": "code",
   "execution_count": 10,
   "outputs": [],
   "source": [
    "price = rd.get_history(\n",
    "    universe=['AAPL.OQ', 'TSLA.O'],\n",
    "    start = '2024-01-01',\n",
    "    end = '2024-02-21',\n",
    "    interval = 'daily',\n",
    "    fields=['OPEN_PRC', 'TRDPRC_1'],\n",
    "    adjustments='exchangeCorrection')"
   ],
   "metadata": {
    "collapsed": false,
    "ExecuteTime": {
     "end_time": "2024-02-23T14:22:40.029206Z",
     "start_time": "2024-02-23T14:22:39.182985Z"
    }
   }
  },
  {
   "cell_type": "code",
   "execution_count": 11,
   "outputs": [
    {
     "data": {
      "text/plain": "            AAPL.OQ            TSLA.O         \n           OPEN_PRC TRDPRC_1 OPEN_PRC TRDPRC_1\nDate                                          \n2024-01-02   187.03   185.64   250.08   248.42\n2024-01-03    184.2   184.25   244.98   238.45\n2024-01-04    182.0   181.91   239.25   237.93\n2024-01-05    181.9   181.18   236.86   237.49\n2024-01-08    182.0   185.56   236.14   240.45\n2024-01-09   183.96   185.14   238.11   234.96\n2024-01-10   184.28   186.19    235.1   233.94\n2024-01-11    186.6   185.59   230.57   227.22\n2024-01-12    186.0   185.92   220.08   218.89\n2024-01-16   182.23   183.63    215.1   219.91\n2024-01-17   181.18   182.68   214.86   215.55\n2024-01-18   186.01   188.63   216.88   211.88\n2024-01-19   189.47   191.56   209.99   212.19\n2024-01-22   192.34   193.89   212.26    208.8\n2024-01-23    195.0   195.18    211.3   209.14\n2024-01-24  195.505    194.5   211.88   207.83\n2024-01-25    195.2   194.17    189.7   182.63\n2024-01-26   194.17   192.42    185.5   183.25\n2024-01-29   191.99   191.73   185.63   190.93\n2024-01-30   190.84   188.04   195.33   191.59\n2024-01-31    187.0    184.4  186.995   187.29\n2024-02-01    183.9   186.86    188.5   188.86\n2024-02-02   179.96   185.85   185.04   187.91\n2024-02-05   188.07   187.68   184.26   181.06\n2024-02-06   186.85    189.3   177.21    185.1\n2024-02-07   190.51   189.41   188.18   187.58\n2024-02-08   189.34   188.32    189.0   189.56\n2024-02-09   188.75   188.85   190.18   193.57\n2024-02-12   188.35   187.15   192.11   188.13\n2024-02-13   185.81   185.04   183.99   184.02\n2024-02-14    185.3   184.15    185.3   188.71\n2024-02-15   183.55   183.86   189.16   200.45\n2024-02-16   183.62   182.31   202.06   199.95\n2024-02-20   181.74   181.56   196.13   193.76\n2024-02-21   182.05   182.32   193.36   194.77",
      "text/html": "<div>\n<style scoped>\n    .dataframe tbody tr th:only-of-type {\n        vertical-align: middle;\n    }\n\n    .dataframe tbody tr th {\n        vertical-align: top;\n    }\n\n    .dataframe thead tr th {\n        text-align: left;\n    }\n\n    .dataframe thead tr:last-of-type th {\n        text-align: right;\n    }\n</style>\n<table border=\"1\" class=\"dataframe\">\n  <thead>\n    <tr>\n      <th></th>\n      <th colspan=\"2\" halign=\"left\">AAPL.OQ</th>\n      <th colspan=\"2\" halign=\"left\">TSLA.O</th>\n    </tr>\n    <tr>\n      <th></th>\n      <th>OPEN_PRC</th>\n      <th>TRDPRC_1</th>\n      <th>OPEN_PRC</th>\n      <th>TRDPRC_1</th>\n    </tr>\n    <tr>\n      <th>Date</th>\n      <th></th>\n      <th></th>\n      <th></th>\n      <th></th>\n    </tr>\n  </thead>\n  <tbody>\n    <tr>\n      <th>2024-01-02</th>\n      <td>187.03</td>\n      <td>185.64</td>\n      <td>250.08</td>\n      <td>248.42</td>\n    </tr>\n    <tr>\n      <th>2024-01-03</th>\n      <td>184.2</td>\n      <td>184.25</td>\n      <td>244.98</td>\n      <td>238.45</td>\n    </tr>\n    <tr>\n      <th>2024-01-04</th>\n      <td>182.0</td>\n      <td>181.91</td>\n      <td>239.25</td>\n      <td>237.93</td>\n    </tr>\n    <tr>\n      <th>2024-01-05</th>\n      <td>181.9</td>\n      <td>181.18</td>\n      <td>236.86</td>\n      <td>237.49</td>\n    </tr>\n    <tr>\n      <th>2024-01-08</th>\n      <td>182.0</td>\n      <td>185.56</td>\n      <td>236.14</td>\n      <td>240.45</td>\n    </tr>\n    <tr>\n      <th>2024-01-09</th>\n      <td>183.96</td>\n      <td>185.14</td>\n      <td>238.11</td>\n      <td>234.96</td>\n    </tr>\n    <tr>\n      <th>2024-01-10</th>\n      <td>184.28</td>\n      <td>186.19</td>\n      <td>235.1</td>\n      <td>233.94</td>\n    </tr>\n    <tr>\n      <th>2024-01-11</th>\n      <td>186.6</td>\n      <td>185.59</td>\n      <td>230.57</td>\n      <td>227.22</td>\n    </tr>\n    <tr>\n      <th>2024-01-12</th>\n      <td>186.0</td>\n      <td>185.92</td>\n      <td>220.08</td>\n      <td>218.89</td>\n    </tr>\n    <tr>\n      <th>2024-01-16</th>\n      <td>182.23</td>\n      <td>183.63</td>\n      <td>215.1</td>\n      <td>219.91</td>\n    </tr>\n    <tr>\n      <th>2024-01-17</th>\n      <td>181.18</td>\n      <td>182.68</td>\n      <td>214.86</td>\n      <td>215.55</td>\n    </tr>\n    <tr>\n      <th>2024-01-18</th>\n      <td>186.01</td>\n      <td>188.63</td>\n      <td>216.88</td>\n      <td>211.88</td>\n    </tr>\n    <tr>\n      <th>2024-01-19</th>\n      <td>189.47</td>\n      <td>191.56</td>\n      <td>209.99</td>\n      <td>212.19</td>\n    </tr>\n    <tr>\n      <th>2024-01-22</th>\n      <td>192.34</td>\n      <td>193.89</td>\n      <td>212.26</td>\n      <td>208.8</td>\n    </tr>\n    <tr>\n      <th>2024-01-23</th>\n      <td>195.0</td>\n      <td>195.18</td>\n      <td>211.3</td>\n      <td>209.14</td>\n    </tr>\n    <tr>\n      <th>2024-01-24</th>\n      <td>195.505</td>\n      <td>194.5</td>\n      <td>211.88</td>\n      <td>207.83</td>\n    </tr>\n    <tr>\n      <th>2024-01-25</th>\n      <td>195.2</td>\n      <td>194.17</td>\n      <td>189.7</td>\n      <td>182.63</td>\n    </tr>\n    <tr>\n      <th>2024-01-26</th>\n      <td>194.17</td>\n      <td>192.42</td>\n      <td>185.5</td>\n      <td>183.25</td>\n    </tr>\n    <tr>\n      <th>2024-01-29</th>\n      <td>191.99</td>\n      <td>191.73</td>\n      <td>185.63</td>\n      <td>190.93</td>\n    </tr>\n    <tr>\n      <th>2024-01-30</th>\n      <td>190.84</td>\n      <td>188.04</td>\n      <td>195.33</td>\n      <td>191.59</td>\n    </tr>\n    <tr>\n      <th>2024-01-31</th>\n      <td>187.0</td>\n      <td>184.4</td>\n      <td>186.995</td>\n      <td>187.29</td>\n    </tr>\n    <tr>\n      <th>2024-02-01</th>\n      <td>183.9</td>\n      <td>186.86</td>\n      <td>188.5</td>\n      <td>188.86</td>\n    </tr>\n    <tr>\n      <th>2024-02-02</th>\n      <td>179.96</td>\n      <td>185.85</td>\n      <td>185.04</td>\n      <td>187.91</td>\n    </tr>\n    <tr>\n      <th>2024-02-05</th>\n      <td>188.07</td>\n      <td>187.68</td>\n      <td>184.26</td>\n      <td>181.06</td>\n    </tr>\n    <tr>\n      <th>2024-02-06</th>\n      <td>186.85</td>\n      <td>189.3</td>\n      <td>177.21</td>\n      <td>185.1</td>\n    </tr>\n    <tr>\n      <th>2024-02-07</th>\n      <td>190.51</td>\n      <td>189.41</td>\n      <td>188.18</td>\n      <td>187.58</td>\n    </tr>\n    <tr>\n      <th>2024-02-08</th>\n      <td>189.34</td>\n      <td>188.32</td>\n      <td>189.0</td>\n      <td>189.56</td>\n    </tr>\n    <tr>\n      <th>2024-02-09</th>\n      <td>188.75</td>\n      <td>188.85</td>\n      <td>190.18</td>\n      <td>193.57</td>\n    </tr>\n    <tr>\n      <th>2024-02-12</th>\n      <td>188.35</td>\n      <td>187.15</td>\n      <td>192.11</td>\n      <td>188.13</td>\n    </tr>\n    <tr>\n      <th>2024-02-13</th>\n      <td>185.81</td>\n      <td>185.04</td>\n      <td>183.99</td>\n      <td>184.02</td>\n    </tr>\n    <tr>\n      <th>2024-02-14</th>\n      <td>185.3</td>\n      <td>184.15</td>\n      <td>185.3</td>\n      <td>188.71</td>\n    </tr>\n    <tr>\n      <th>2024-02-15</th>\n      <td>183.55</td>\n      <td>183.86</td>\n      <td>189.16</td>\n      <td>200.45</td>\n    </tr>\n    <tr>\n      <th>2024-02-16</th>\n      <td>183.62</td>\n      <td>182.31</td>\n      <td>202.06</td>\n      <td>199.95</td>\n    </tr>\n    <tr>\n      <th>2024-02-20</th>\n      <td>181.74</td>\n      <td>181.56</td>\n      <td>196.13</td>\n      <td>193.76</td>\n    </tr>\n    <tr>\n      <th>2024-02-21</th>\n      <td>182.05</td>\n      <td>182.32</td>\n      <td>193.36</td>\n      <td>194.77</td>\n    </tr>\n  </tbody>\n</table>\n</div>"
     },
     "execution_count": 11,
     "metadata": {},
     "output_type": "execute_result"
    }
   ],
   "source": [
    "price"
   ],
   "metadata": {
    "collapsed": false,
    "ExecuteTime": {
     "end_time": "2024-02-23T14:22:42.908025Z",
     "start_time": "2024-02-23T14:22:42.900865Z"
    }
   }
  },
  {
   "cell_type": "markdown",
   "source": [
    "Split up the data in chunks for better performance."
   ],
   "metadata": {
    "collapsed": false
   }
  },
  {
   "cell_type": "code",
   "execution_count": 12,
   "outputs": [
    {
     "name": "stdout",
     "output_type": "stream",
     "text": [
      "Processed chunk 1/11\n",
      "Processed chunk 2/11\n"
     ]
    },
    {
     "name": "stderr",
     "output_type": "stream",
     "text": [
      "/Users/pascalschrader/Library/CloudStorage/OneDrive-uni-mannheim.de/Mannheim/Lehrstuhl/Lehre/ACC_540/2024/Excercise/Tutorial1/ACC540/venv/lib/python3.11/site-packages/refinitiv/data/_tools/_dataframe.py:177:FutureWarning: Downcasting object dtype arrays on .fillna, .ffill, .bfill is deprecated and will change in a future version. Call result.infer_objects(copy=False) instead. To opt-in to the future behavior, set `pd.set_option('future.no_silent_downcasting', True)`\n"
     ]
    },
    {
     "name": "stdout",
     "output_type": "stream",
     "text": [
      "Processed chunk 3/11\n",
      "Processed chunk 4/11\n",
      "Processed chunk 5/11\n",
      "Processed chunk 6/11\n",
      "Processed chunk 7/11\n",
      "Processed chunk 8/11\n",
      "Processed chunk 9/11\n",
      "Processed chunk 10/11\n",
      "Processed chunk 11/11\n"
     ]
    }
   ],
   "source": [
    "# Get ESG data for all CUSIPs\n",
    "chunk_size = 50\n",
    "sp500_chunks = [sp500[i:i + chunk_size] for i in range(0, len(sp500), chunk_size)]\n",
    "\n",
    "# Initialize an empty DataFrame to store the combined results\n",
    "all_data_list = []\n",
    "\n",
    "# Iterate over each chunk and perform the API call\n",
    "for i, chunk in enumerate(sp500_chunks):\n",
    "    while True:\n",
    "        try:\n",
    "            # Dummy API call function (Replace with actual API call)\n",
    "            chunk_data = rd.get_history(\n",
    "                universe=chunk,\n",
    "                start = '2024-01-01',\n",
    "                end = '2024-02-21',\n",
    "                interval = 'daily',\n",
    "                fields=['OPEN_PRC', 'TRDPRC_1'],\n",
    "                adjustments='exchangeCorrection')\n",
    "\n",
    "            # Combine the data\n",
    "            all_data_list.append(chunk_data)\n",
    "            break  # Exit the loop if API call is successful\n",
    "\n",
    "        except Exception as e:\n",
    "            print(e)\n",
    "            time.sleep(60)\n",
    "\n",
    "    # Print the progress\n",
    "    print(f\"Processed chunk {i + 1}/{len(sp500_chunks)}\")"
   ],
   "metadata": {
    "collapsed": false,
    "ExecuteTime": {
     "end_time": "2024-02-23T14:23:12.971582Z",
     "start_time": "2024-02-23T14:22:48.135306Z"
    }
   }
  },
  {
   "cell_type": "code",
   "execution_count": 13,
   "outputs": [
    {
     "data": {
      "text/plain": "            POOL.OQ           CHRW.OQ             AJG.N             CNP.N  \\\n           OPEN_PRC TRDPRC_1 OPEN_PRC TRDPRC_1 OPEN_PRC TRDPRC_1 OPEN_PRC   \nDate                                                                        \n2024-01-02   394.26   388.15    86.43    87.13   224.86    225.0    28.52   \n2024-01-03   382.87   373.78     87.0    87.34    225.6   225.02    29.02   \n2024-01-04   370.33   372.87     87.0    88.21   226.55    225.9    29.25   \n2024-01-05    371.6   377.73    87.85    88.59   226.42   225.28    29.03   \n2024-01-08   374.63   381.44    88.37    87.59   226.65   228.84    29.19   \n...             ...      ...      ...      ...      ...      ...      ...   \n2024-02-14     <NA>     <NA>     <NA>     <NA>     <NA>     <NA>     <NA>   \n2024-02-15     <NA>     <NA>     <NA>     <NA>     <NA>     <NA>     <NA>   \n2024-02-16     <NA>     <NA>     <NA>     <NA>     <NA>     <NA>     <NA>   \n2024-02-20     <NA>     <NA>     <NA>     <NA>     <NA>     <NA>     <NA>   \n2024-02-21     <NA>     <NA>     <NA>     <NA>     <NA>     <NA>     <NA>   \n\n                      AMCR.N           ...    PSX.N            SCHW.N  \\\n           TRDPRC_1 OPEN_PRC TRDPRC_1  ... OPEN_PRC TRDPRC_1 OPEN_PRC   \nDate                                   ...                              \n2024-01-02    29.01     9.64     9.75  ...     <NA>     <NA>     <NA>   \n2024-01-03    29.13     9.65      9.6  ...     <NA>     <NA>     <NA>   \n2024-01-04    29.08     9.56     9.64  ...     <NA>     <NA>     <NA>   \n2024-01-05    29.24     9.58     9.74  ...     <NA>     <NA>     <NA>   \n2024-01-08    29.41     9.67     9.81  ...     <NA>     <NA>     <NA>   \n...             ...      ...      ...  ...      ...      ...      ...   \n2024-02-14     <NA>     <NA>     <NA>  ...   146.21   145.21    63.16   \n2024-02-15     <NA>     <NA>     <NA>  ...    144.5   146.37     63.4   \n2024-02-16     <NA>     <NA>     <NA>  ...   145.33   143.81    64.44   \n2024-02-20     <NA>     <NA>     <NA>  ...   143.65   141.14    63.93   \n2024-02-21     <NA>     <NA>     <NA>  ...   141.46   143.55    63.25   \n\n                     SNPS.OQ               J.N             AVY.N           \n           TRDPRC_1 OPEN_PRC TRDPRC_1 OPEN_PRC TRDPRC_1 OPEN_PRC TRDPRC_1  \nDate                                                                       \n2024-01-02     <NA>     <NA>     <NA>     <NA>     <NA>     <NA>     <NA>  \n2024-01-03     <NA>     <NA>     <NA>     <NA>     <NA>     <NA>     <NA>  \n2024-01-04     <NA>     <NA>     <NA>     <NA>     <NA>     <NA>     <NA>  \n2024-01-05     <NA>     <NA>     <NA>     <NA>     <NA>     <NA>     <NA>  \n2024-01-08     <NA>     <NA>     <NA>     <NA>     <NA>     <NA>     <NA>  \n...             ...      ...      ...      ...      ...      ...      ...  \n2024-02-14    63.03   554.59   562.73   144.13   144.29   204.75   206.39  \n2024-02-15    64.63   567.14   557.83   144.79    147.3   206.94   208.67  \n2024-02-16     64.4   559.95   552.91    147.3   147.54   208.33   208.83  \n2024-02-20    63.58    551.5   547.98   146.26   145.37   207.76   209.71  \n2024-02-21    64.13    539.0   543.57   145.23   144.56   210.01   210.93  \n\n[385 rows x 1010 columns]",
      "text/html": "<div>\n<style scoped>\n    .dataframe tbody tr th:only-of-type {\n        vertical-align: middle;\n    }\n\n    .dataframe tbody tr th {\n        vertical-align: top;\n    }\n\n    .dataframe thead tr th {\n        text-align: left;\n    }\n\n    .dataframe thead tr:last-of-type th {\n        text-align: right;\n    }\n</style>\n<table border=\"1\" class=\"dataframe\">\n  <thead>\n    <tr>\n      <th></th>\n      <th colspan=\"2\" halign=\"left\">POOL.OQ</th>\n      <th colspan=\"2\" halign=\"left\">CHRW.OQ</th>\n      <th colspan=\"2\" halign=\"left\">AJG.N</th>\n      <th colspan=\"2\" halign=\"left\">CNP.N</th>\n      <th colspan=\"2\" halign=\"left\">AMCR.N</th>\n      <th>...</th>\n      <th colspan=\"2\" halign=\"left\">PSX.N</th>\n      <th colspan=\"2\" halign=\"left\">SCHW.N</th>\n      <th colspan=\"2\" halign=\"left\">SNPS.OQ</th>\n      <th colspan=\"2\" halign=\"left\">J.N</th>\n      <th colspan=\"2\" halign=\"left\">AVY.N</th>\n    </tr>\n    <tr>\n      <th></th>\n      <th>OPEN_PRC</th>\n      <th>TRDPRC_1</th>\n      <th>OPEN_PRC</th>\n      <th>TRDPRC_1</th>\n      <th>OPEN_PRC</th>\n      <th>TRDPRC_1</th>\n      <th>OPEN_PRC</th>\n      <th>TRDPRC_1</th>\n      <th>OPEN_PRC</th>\n      <th>TRDPRC_1</th>\n      <th>...</th>\n      <th>OPEN_PRC</th>\n      <th>TRDPRC_1</th>\n      <th>OPEN_PRC</th>\n      <th>TRDPRC_1</th>\n      <th>OPEN_PRC</th>\n      <th>TRDPRC_1</th>\n      <th>OPEN_PRC</th>\n      <th>TRDPRC_1</th>\n      <th>OPEN_PRC</th>\n      <th>TRDPRC_1</th>\n    </tr>\n    <tr>\n      <th>Date</th>\n      <th></th>\n      <th></th>\n      <th></th>\n      <th></th>\n      <th></th>\n      <th></th>\n      <th></th>\n      <th></th>\n      <th></th>\n      <th></th>\n      <th></th>\n      <th></th>\n      <th></th>\n      <th></th>\n      <th></th>\n      <th></th>\n      <th></th>\n      <th></th>\n      <th></th>\n      <th></th>\n      <th></th>\n    </tr>\n  </thead>\n  <tbody>\n    <tr>\n      <th>2024-01-02</th>\n      <td>394.26</td>\n      <td>388.15</td>\n      <td>86.43</td>\n      <td>87.13</td>\n      <td>224.86</td>\n      <td>225.0</td>\n      <td>28.52</td>\n      <td>29.01</td>\n      <td>9.64</td>\n      <td>9.75</td>\n      <td>...</td>\n      <td>&lt;NA&gt;</td>\n      <td>&lt;NA&gt;</td>\n      <td>&lt;NA&gt;</td>\n      <td>&lt;NA&gt;</td>\n      <td>&lt;NA&gt;</td>\n      <td>&lt;NA&gt;</td>\n      <td>&lt;NA&gt;</td>\n      <td>&lt;NA&gt;</td>\n      <td>&lt;NA&gt;</td>\n      <td>&lt;NA&gt;</td>\n    </tr>\n    <tr>\n      <th>2024-01-03</th>\n      <td>382.87</td>\n      <td>373.78</td>\n      <td>87.0</td>\n      <td>87.34</td>\n      <td>225.6</td>\n      <td>225.02</td>\n      <td>29.02</td>\n      <td>29.13</td>\n      <td>9.65</td>\n      <td>9.6</td>\n      <td>...</td>\n      <td>&lt;NA&gt;</td>\n      <td>&lt;NA&gt;</td>\n      <td>&lt;NA&gt;</td>\n      <td>&lt;NA&gt;</td>\n      <td>&lt;NA&gt;</td>\n      <td>&lt;NA&gt;</td>\n      <td>&lt;NA&gt;</td>\n      <td>&lt;NA&gt;</td>\n      <td>&lt;NA&gt;</td>\n      <td>&lt;NA&gt;</td>\n    </tr>\n    <tr>\n      <th>2024-01-04</th>\n      <td>370.33</td>\n      <td>372.87</td>\n      <td>87.0</td>\n      <td>88.21</td>\n      <td>226.55</td>\n      <td>225.9</td>\n      <td>29.25</td>\n      <td>29.08</td>\n      <td>9.56</td>\n      <td>9.64</td>\n      <td>...</td>\n      <td>&lt;NA&gt;</td>\n      <td>&lt;NA&gt;</td>\n      <td>&lt;NA&gt;</td>\n      <td>&lt;NA&gt;</td>\n      <td>&lt;NA&gt;</td>\n      <td>&lt;NA&gt;</td>\n      <td>&lt;NA&gt;</td>\n      <td>&lt;NA&gt;</td>\n      <td>&lt;NA&gt;</td>\n      <td>&lt;NA&gt;</td>\n    </tr>\n    <tr>\n      <th>2024-01-05</th>\n      <td>371.6</td>\n      <td>377.73</td>\n      <td>87.85</td>\n      <td>88.59</td>\n      <td>226.42</td>\n      <td>225.28</td>\n      <td>29.03</td>\n      <td>29.24</td>\n      <td>9.58</td>\n      <td>9.74</td>\n      <td>...</td>\n      <td>&lt;NA&gt;</td>\n      <td>&lt;NA&gt;</td>\n      <td>&lt;NA&gt;</td>\n      <td>&lt;NA&gt;</td>\n      <td>&lt;NA&gt;</td>\n      <td>&lt;NA&gt;</td>\n      <td>&lt;NA&gt;</td>\n      <td>&lt;NA&gt;</td>\n      <td>&lt;NA&gt;</td>\n      <td>&lt;NA&gt;</td>\n    </tr>\n    <tr>\n      <th>2024-01-08</th>\n      <td>374.63</td>\n      <td>381.44</td>\n      <td>88.37</td>\n      <td>87.59</td>\n      <td>226.65</td>\n      <td>228.84</td>\n      <td>29.19</td>\n      <td>29.41</td>\n      <td>9.67</td>\n      <td>9.81</td>\n      <td>...</td>\n      <td>&lt;NA&gt;</td>\n      <td>&lt;NA&gt;</td>\n      <td>&lt;NA&gt;</td>\n      <td>&lt;NA&gt;</td>\n      <td>&lt;NA&gt;</td>\n      <td>&lt;NA&gt;</td>\n      <td>&lt;NA&gt;</td>\n      <td>&lt;NA&gt;</td>\n      <td>&lt;NA&gt;</td>\n      <td>&lt;NA&gt;</td>\n    </tr>\n    <tr>\n      <th>...</th>\n      <td>...</td>\n      <td>...</td>\n      <td>...</td>\n      <td>...</td>\n      <td>...</td>\n      <td>...</td>\n      <td>...</td>\n      <td>...</td>\n      <td>...</td>\n      <td>...</td>\n      <td>...</td>\n      <td>...</td>\n      <td>...</td>\n      <td>...</td>\n      <td>...</td>\n      <td>...</td>\n      <td>...</td>\n      <td>...</td>\n      <td>...</td>\n      <td>...</td>\n      <td>...</td>\n    </tr>\n    <tr>\n      <th>2024-02-14</th>\n      <td>&lt;NA&gt;</td>\n      <td>&lt;NA&gt;</td>\n      <td>&lt;NA&gt;</td>\n      <td>&lt;NA&gt;</td>\n      <td>&lt;NA&gt;</td>\n      <td>&lt;NA&gt;</td>\n      <td>&lt;NA&gt;</td>\n      <td>&lt;NA&gt;</td>\n      <td>&lt;NA&gt;</td>\n      <td>&lt;NA&gt;</td>\n      <td>...</td>\n      <td>146.21</td>\n      <td>145.21</td>\n      <td>63.16</td>\n      <td>63.03</td>\n      <td>554.59</td>\n      <td>562.73</td>\n      <td>144.13</td>\n      <td>144.29</td>\n      <td>204.75</td>\n      <td>206.39</td>\n    </tr>\n    <tr>\n      <th>2024-02-15</th>\n      <td>&lt;NA&gt;</td>\n      <td>&lt;NA&gt;</td>\n      <td>&lt;NA&gt;</td>\n      <td>&lt;NA&gt;</td>\n      <td>&lt;NA&gt;</td>\n      <td>&lt;NA&gt;</td>\n      <td>&lt;NA&gt;</td>\n      <td>&lt;NA&gt;</td>\n      <td>&lt;NA&gt;</td>\n      <td>&lt;NA&gt;</td>\n      <td>...</td>\n      <td>144.5</td>\n      <td>146.37</td>\n      <td>63.4</td>\n      <td>64.63</td>\n      <td>567.14</td>\n      <td>557.83</td>\n      <td>144.79</td>\n      <td>147.3</td>\n      <td>206.94</td>\n      <td>208.67</td>\n    </tr>\n    <tr>\n      <th>2024-02-16</th>\n      <td>&lt;NA&gt;</td>\n      <td>&lt;NA&gt;</td>\n      <td>&lt;NA&gt;</td>\n      <td>&lt;NA&gt;</td>\n      <td>&lt;NA&gt;</td>\n      <td>&lt;NA&gt;</td>\n      <td>&lt;NA&gt;</td>\n      <td>&lt;NA&gt;</td>\n      <td>&lt;NA&gt;</td>\n      <td>&lt;NA&gt;</td>\n      <td>...</td>\n      <td>145.33</td>\n      <td>143.81</td>\n      <td>64.44</td>\n      <td>64.4</td>\n      <td>559.95</td>\n      <td>552.91</td>\n      <td>147.3</td>\n      <td>147.54</td>\n      <td>208.33</td>\n      <td>208.83</td>\n    </tr>\n    <tr>\n      <th>2024-02-20</th>\n      <td>&lt;NA&gt;</td>\n      <td>&lt;NA&gt;</td>\n      <td>&lt;NA&gt;</td>\n      <td>&lt;NA&gt;</td>\n      <td>&lt;NA&gt;</td>\n      <td>&lt;NA&gt;</td>\n      <td>&lt;NA&gt;</td>\n      <td>&lt;NA&gt;</td>\n      <td>&lt;NA&gt;</td>\n      <td>&lt;NA&gt;</td>\n      <td>...</td>\n      <td>143.65</td>\n      <td>141.14</td>\n      <td>63.93</td>\n      <td>63.58</td>\n      <td>551.5</td>\n      <td>547.98</td>\n      <td>146.26</td>\n      <td>145.37</td>\n      <td>207.76</td>\n      <td>209.71</td>\n    </tr>\n    <tr>\n      <th>2024-02-21</th>\n      <td>&lt;NA&gt;</td>\n      <td>&lt;NA&gt;</td>\n      <td>&lt;NA&gt;</td>\n      <td>&lt;NA&gt;</td>\n      <td>&lt;NA&gt;</td>\n      <td>&lt;NA&gt;</td>\n      <td>&lt;NA&gt;</td>\n      <td>&lt;NA&gt;</td>\n      <td>&lt;NA&gt;</td>\n      <td>&lt;NA&gt;</td>\n      <td>...</td>\n      <td>141.46</td>\n      <td>143.55</td>\n      <td>63.25</td>\n      <td>64.13</td>\n      <td>539.0</td>\n      <td>543.57</td>\n      <td>145.23</td>\n      <td>144.56</td>\n      <td>210.01</td>\n      <td>210.93</td>\n    </tr>\n  </tbody>\n</table>\n<p>385 rows × 1010 columns</p>\n</div>"
     },
     "execution_count": 13,
     "metadata": {},
     "output_type": "execute_result"
    }
   ],
   "source": [
    "df = pd.concat(all_data_list)\n",
    "df"
   ],
   "metadata": {
    "collapsed": false,
    "ExecuteTime": {
     "end_time": "2024-02-23T14:23:15.378308Z",
     "start_time": "2024-02-23T14:23:14.934646Z"
    }
   }
  },
  {
   "cell_type": "markdown",
   "source": [
    "... or iterate over all companies"
   ],
   "metadata": {
    "collapsed": false
   }
  },
  {
   "cell_type": "code",
   "execution_count": 14,
   "outputs": [
    {
     "name": "stdout",
     "output_type": "stream",
     "text": [
      "POOL.OQ\n",
      "Processed company 1/505\n",
      "CHRW.OQ\n",
      "Processed company 2/505\n",
      "AJG.N\n",
      "Processed company 3/505\n",
      "CNP.N\n",
      "Processed company 4/505\n",
      "AMCR.N\n",
      "Processed company 5/505\n",
      "WM.N\n",
      "Processed company 6/505\n",
      "BA.N\n",
      "Processed company 7/505\n",
      "FOX.OQ\n",
      "Processed company 8/505\n",
      "WY.N\n",
      "Processed company 9/505\n",
      "MCD.N\n",
      "Processed company 10/505\n",
      "HD.N\n",
      "Processed company 11/505\n",
      "SPG.N\n",
      "Processed company 12/505\n",
      "HBAN.OQ\n",
      "Processed company 13/505\n",
      "QRVO.OQ\n",
      "Processed company 14/505\n",
      "LVS.N\n",
      "Processed company 15/505\n",
      "CTRA.N\n",
      "Processed company 16/505\n",
      "ON.OQ\n",
      "Processed company 17/505\n",
      "AIG.N\n",
      "Processed company 18/505\n",
      "AIZ.N\n",
      "Processed company 19/505\n",
      "CARR.N\n",
      "Processed company 20/505\n",
      "EVRG.OQ\n",
      "Processed company 21/505\n",
      "COST.OQ\n",
      "Processed company 22/505\n",
      "MCO.N\n",
      "Processed company 23/505\n",
      "DIS.N\n",
      "Processed company 24/505\n",
      "LULU.OQ\n",
      "Processed company 25/505\n",
      "PAYX.OQ\n",
      "Processed company 26/505\n",
      "AMD.OQ\n",
      "Processed company 27/505\n",
      "REG.OQ\n",
      "Processed company 28/505\n",
      "DHI.N\n",
      "Processed company 29/505\n",
      "TRV.N\n",
      "Processed company 30/505\n",
      "BIO.N\n",
      "Processed company 31/505\n",
      "MOS.N\n",
      "Processed company 32/505\n",
      "BWA.N\n",
      "Processed company 33/505\n",
      "WDC.OQ\n",
      "Processed company 34/505\n",
      "VTR.N\n",
      "Processed company 35/505\n",
      "IVZ.N\n",
      "Processed company 36/505\n",
      "ZBRA.OQ\n",
      "Processed company 37/505\n",
      "AMAT.OQ\n",
      "Processed company 38/505\n",
      "STX.OQ\n",
      "Processed company 39/505\n",
      "FDS.N\n",
      "Processed company 40/505\n",
      "KVUE.N\n",
      "Processed company 41/505\n",
      "SYK.N\n",
      "Processed company 42/505\n",
      "VRSN.OQ\n",
      "Processed company 43/505\n",
      "TECH.OQ\n",
      "Processed company 44/505\n",
      "NVR.N\n",
      "Processed company 45/505\n",
      "JBL.N\n",
      "Processed company 46/505\n",
      "BBWI.N\n",
      "Processed company 47/505\n",
      "LOW.N\n",
      "Processed company 48/505\n",
      "BSX.N\n",
      "Processed company 49/505\n",
      "SYY.N\n",
      "Processed company 50/505\n",
      "FCX.N\n",
      "Processed company 51/505\n",
      "MAS.N\n",
      "Processed company 52/505\n",
      "BEN.N\n",
      "Processed company 53/505\n",
      "META.OQ\n",
      "Processed company 54/505\n",
      "PAYC.N\n",
      "Processed company 55/505\n",
      "EXPE.OQ\n",
      "Processed company 56/505\n",
      "RJF.N\n",
      "Processed company 57/505\n",
      "CL.N\n",
      "Processed company 58/505\n",
      "VICI.N\n",
      "Processed company 59/505\n",
      "CE.N\n",
      "Processed company 60/505\n",
      "UNH.N\n",
      "Processed company 61/505\n",
      "ARE.N\n",
      "Processed company 62/505\n",
      "GEN.OQ\n",
      "Processed company 63/505\n",
      "LLY.N\n",
      "Processed company 64/505\n",
      "DAY.N\n",
      "Processed company 65/505\n",
      "GRMN.N\n",
      "Processed company 66/505\n",
      "PODD.OQ\n",
      "Processed company 67/505\n",
      "ISRG.OQ\n",
      "Processed company 68/505\n",
      "AVB.N\n",
      "Processed company 69/505\n",
      "TPR.N\n",
      "Processed company 70/505\n",
      "CBRE.N\n",
      "Processed company 71/505\n",
      "CINF.OQ\n",
      "Processed company 72/505\n",
      "WMB.N\n",
      "Processed company 73/505\n",
      "EA.OQ\n",
      "Processed company 74/505\n",
      "CPRI.N\n",
      "Processed company 75/505\n",
      "TMUS.OQ\n",
      "Processed company 76/505\n",
      "CB.N\n",
      "Processed company 77/505\n",
      "TXN.OQ\n",
      "Processed company 78/505\n",
      "MDLZ.OQ\n",
      "Processed company 79/505\n",
      "BRO.N\n",
      "Processed company 80/505\n",
      "BALL.N\n",
      "Processed company 81/505\n",
      "PFG.OQ\n",
      "Processed company 82/505\n",
      "KEYS.N\n",
      "Processed company 83/505\n",
      "PCG.N\n",
      "Processed company 84/505\n",
      "RL.N\n",
      "Processed company 85/505\n",
      "JPM.N\n",
      "Processed company 86/505\n",
      "TTWO.OQ\n",
      "Processed company 87/505\n",
      "CDW.OQ\n",
      "Processed company 88/505\n",
      "RMD.N\n",
      "Processed company 89/505\n",
      "LNT.OQ\n",
      "Processed company 90/505\n",
      "COO.OQ\n",
      "Processed company 91/505\n",
      "CMG.N\n",
      "Processed company 92/505\n",
      "PCAR.OQ\n",
      "Processed company 93/505\n",
      "GNRC.N\n",
      "Processed company 94/505\n",
      "CHTR.OQ\n",
      "Processed company 95/505\n",
      "PWR.N\n",
      "Processed company 96/505\n",
      "CCL.N\n",
      "Processed company 97/505\n",
      "PM.N\n",
      "Processed company 98/505\n",
      "SNA.N\n",
      "Processed company 99/505\n",
      "UAL.OQ\n",
      "Processed company 100/505\n",
      "ESS.N\n",
      "Processed company 101/505\n",
      "KHC.OQ\n",
      "Processed company 102/505\n",
      "BLDR.N\n",
      "Processed company 103/505\n",
      "JBHT.OQ\n",
      "Processed company 104/505\n",
      "CMI.N\n",
      "Processed company 105/505\n",
      "PNR.N\n",
      "Processed company 106/505\n",
      "CRL.N\n",
      "Processed company 107/505\n",
      "DPZ.N\n",
      "Processed company 108/505\n",
      "AGN.N^E20\n",
      "Processed company 109/505\n",
      "HPQ.N\n",
      "Processed company 110/505\n",
      "ROP.OQ\n",
      "Processed company 111/505\n",
      "LW.N\n",
      "Processed company 112/505\n",
      "TGT.N\n",
      "Processed company 113/505\n",
      "NTAP.OQ\n",
      "Processed company 114/505\n",
      "OXY.N\n",
      "Processed company 115/505\n",
      "IR.N\n",
      "Processed company 116/505\n",
      "TER.OQ\n",
      "Processed company 117/505\n",
      "WAB.N\n",
      "Processed company 118/505\n",
      "NOW.N\n",
      "Processed company 119/505\n",
      "EXC.OQ\n",
      "Processed company 120/505\n",
      "BR.N\n",
      "Processed company 121/505\n",
      "EMN.N\n",
      "Processed company 122/505\n",
      "AZO.N\n",
      "Processed company 123/505\n",
      "TEL.N\n",
      "Processed company 124/505\n",
      "FRT.N\n",
      "Processed company 125/505\n",
      "DUK.N\n",
      "Processed company 126/505\n",
      "KMI.N\n",
      "Processed company 127/505\n",
      "DVN.N\n",
      "Processed company 128/505\n",
      "RCL.N\n",
      "Processed company 129/505\n",
      "VTRS.OQ\n",
      "Processed company 130/505\n",
      "CAH.N\n",
      "Processed company 131/505\n",
      "AAL.OQ\n",
      "Processed company 132/505\n",
      "MKC.N\n",
      "Processed company 133/505\n",
      "IEX.N\n",
      "Processed company 134/505\n",
      "VLO.N\n",
      "Processed company 135/505\n",
      "EXPD.N\n",
      "Processed company 136/505\n",
      "LH.N\n",
      "Processed company 137/505\n",
      "DRI.N\n",
      "Processed company 138/505\n",
      "MAA.N\n",
      "Processed company 139/505\n",
      "JNJ.N\n",
      "Processed company 140/505\n",
      "COR.N\n",
      "Processed company 141/505\n",
      "SHW.N\n",
      "Processed company 142/505\n",
      "GD.N\n",
      "Processed company 143/505\n",
      "SBAC.OQ\n",
      "Processed company 144/505\n",
      "MPWR.OQ\n",
      "Processed company 145/505\n",
      "COP.N\n",
      "Processed company 146/505\n",
      "ORCL.N\n",
      "Processed company 147/505\n",
      "AMP.N\n",
      "Processed company 148/505\n",
      "NXPI.OQ\n",
      "Processed company 149/505\n",
      "CPRT.OQ\n",
      "Processed company 150/505\n",
      "TXT.N\n",
      "Processed company 151/505\n",
      "T.N\n",
      "Processed company 152/505\n",
      "MTCH.OQ\n",
      "Processed company 153/505\n",
      "NDAQ.OQ\n",
      "Processed company 154/505\n",
      "FFIV.OQ\n",
      "Processed company 155/505\n",
      "LEN.N\n",
      "Processed company 156/505\n",
      "CDNS.OQ\n",
      "Processed company 157/505\n",
      "NVDA.OQ\n",
      "Processed company 158/505\n",
      "WELL.N\n",
      "Processed company 159/505\n",
      "PLD.N\n",
      "Processed company 160/505\n",
      "ROST.OQ\n",
      "Processed company 161/505\n",
      "MRK.N\n",
      "Processed company 162/505\n",
      "WEC.N\n",
      "Processed company 163/505\n",
      "MSCI.N\n",
      "Processed company 164/505\n",
      "TMO.N\n",
      "Processed company 165/505\n",
      "F.N\n",
      "Processed company 166/505\n",
      "GEHC.OQ\n",
      "Processed company 167/505\n",
      "LYB.N\n",
      "Processed company 168/505\n",
      "IBM.N\n",
      "Processed company 169/505\n",
      "IQV.N\n",
      "Processed company 170/505\n",
      "VRTX.OQ\n",
      "Processed company 171/505\n",
      "DXCM.OQ\n",
      "Processed company 172/505\n",
      "PEP.OQ\n",
      "Processed company 173/505\n",
      "AOS.N\n",
      "Processed company 174/505\n",
      "BLK.N\n",
      "Processed company 175/505\n",
      "HII.N\n",
      "Processed company 176/505\n",
      "CVS.N\n",
      "Processed company 177/505\n",
      "PH.N\n",
      "Processed company 178/505\n",
      "NSC.N\n",
      "Processed company 179/505\n",
      "MSFT.OQ\n",
      "Processed company 180/505\n",
      "HWM.N\n",
      "Processed company 181/505\n",
      "BAX.N\n",
      "Processed company 182/505\n",
      "HUM.N\n",
      "Processed company 183/505\n",
      "AXON.OQ\n",
      "Processed company 184/505\n",
      "ZBH.N\n",
      "Processed company 185/505\n",
      "TDY.N\n",
      "Processed company 186/505\n",
      "GILD.OQ\n",
      "Processed company 187/505\n",
      "EPAM.N\n",
      "Processed company 188/505\n",
      "CMA.N\n",
      "Processed company 189/505\n",
      "NOC.N\n",
      "Processed company 190/505\n",
      "PNW.N\n",
      "Processed company 191/505\n",
      "BFb.N\n",
      "Processed company 192/505\n",
      "DE.N\n",
      "Processed company 193/505\n",
      "HSY.N\n",
      "Processed company 194/505\n",
      "GL.N\n",
      "Processed company 195/505\n",
      "SLB.N\n",
      "Processed company 196/505\n",
      "AWK.N\n",
      "Processed company 197/505\n",
      "PKG.N\n",
      "Processed company 198/505\n",
      "FLT.N\n",
      "Processed company 199/505\n",
      "ADI.OQ\n",
      "Processed company 200/505\n",
      "MMC.N\n",
      "Processed company 201/505\n",
      "IT.N\n",
      "Processed company 202/505\n",
      "ECL.N\n",
      "Processed company 203/505\n",
      "BXP.N\n",
      "Processed company 204/505\n",
      "GE.N\n",
      "Processed company 205/505\n",
      "ED.N\n",
      "Processed company 206/505\n",
      "ALLE.N\n",
      "Processed company 207/505\n",
      "OTIS.N\n",
      "Processed company 208/505\n",
      "WFC.N\n",
      "Processed company 209/505\n",
      "CTVA.N\n",
      "Processed company 210/505\n",
      "FTV.N\n",
      "Processed company 211/505\n",
      "AEE.N\n",
      "Processed company 212/505\n",
      "PRU.N\n",
      "Processed company 213/505\n",
      "DLTR.OQ\n",
      "Processed company 214/505\n",
      "CF.N\n",
      "Processed company 215/505\n",
      "NEE.N\n",
      "Processed company 216/505\n",
      "FMC.N\n",
      "Processed company 217/505\n",
      "ILMN.OQ\n",
      "Processed company 218/505\n",
      "KLAC.OQ\n",
      "Processed company 219/505\n",
      "AME.N\n",
      "Processed company 220/505\n",
      "NUE.N\n",
      "Processed company 221/505\n",
      "D.N\n",
      "Processed company 222/505\n",
      "SJM.N\n",
      "Processed company 223/505\n",
      "EMR.N\n",
      "Processed company 224/505\n",
      "DVA.N\n",
      "Processed company 225/505\n",
      "CMS.N\n",
      "Processed company 226/505\n",
      "HPE.N\n",
      "Processed company 227/505\n",
      "RHI.N\n",
      "Processed company 228/505\n",
      "BDX.N\n",
      "Processed company 229/505\n",
      "MGM.N\n",
      "Processed company 230/505\n",
      "HUBB.N\n",
      "Processed company 231/505\n",
      "ALGN.OQ\n",
      "Processed company 232/505\n",
      "SRE.N\n",
      "Processed company 233/505\n",
      "REGN.OQ\n",
      "Processed company 234/505\n",
      "EFX.N\n",
      "Processed company 235/505\n",
      "USB.N\n",
      "Processed company 236/505\n",
      "CSGP.OQ\n",
      "Processed company 237/505\n",
      "HCA.N\n",
      "Processed company 238/505\n",
      "AVGO.OQ\n",
      "Processed company 239/505\n",
      "DHR.N\n",
      "Processed company 240/505\n",
      "NWSA.OQ\n",
      "Processed company 241/505\n",
      "RTX.N\n",
      "Processed company 242/505\n",
      "AAPL.OQ\n",
      "Processed company 243/505\n",
      "CME.OQ\n",
      "Processed company 244/505\n",
      "MRO.N\n",
      "Processed company 245/505\n",
      "ADM.N\n",
      "Processed company 246/505\n",
      "APD.N\n",
      "Processed company 247/505\n",
      "FANG.OQ\n",
      "Processed company 248/505\n",
      "WRB.N\n",
      "Processed company 249/505\n",
      "AXP.N\n",
      "Processed company 250/505\n",
      "CLX.N\n",
      "Processed company 251/505\n",
      "DOV.N\n",
      "Processed company 252/505\n",
      "FSLR.OQ\n",
      "Processed company 253/505\n",
      "MTB.N\n",
      "Processed company 254/505\n",
      "FDX.N\n",
      "Processed company 255/505\n",
      "TROW.OQ\n",
      "Processed company 256/505\n",
      "JKHY.OQ\n",
      "Processed company 257/505\n",
      "O.N\n",
      "Processed company 258/505\n",
      "MLM.N\n",
      "Processed company 259/505\n",
      "RVTY.N\n",
      "Processed company 260/505\n",
      "L.N\n",
      "Processed company 261/505\n",
      "QCOM.OQ\n",
      "Processed company 262/505\n",
      "IPG.N\n",
      "Processed company 263/505\n",
      "PHM.N\n",
      "Processed company 264/505\n",
      "ANSS.OQ\n",
      "Processed company 265/505\n",
      "ULTA.OQ\n",
      "Processed company 266/505\n",
      "KO.N\n",
      "Processed company 267/505\n",
      "CSCO.OQ\n",
      "Processed company 268/505\n",
      "WTW.OQ\n",
      "Processed company 269/505\n",
      "ANET.N\n",
      "Processed company 270/505\n",
      "ES.N\n",
      "Processed company 271/505\n",
      "CTAS.OQ\n",
      "Processed company 272/505\n",
      "GPN.N\n",
      "Processed company 273/505\n",
      "RSG.N\n",
      "Processed company 274/505\n",
      "LIN.OQ\n",
      "Processed company 275/505\n",
      "MCK.N\n",
      "Processed company 276/505\n",
      "HLT.N\n",
      "Processed company 277/505\n",
      "NFLX.OQ\n",
      "Processed company 278/505\n",
      "FI.N\n",
      "Processed company 279/505\n",
      "RF.N\n",
      "Processed company 280/505\n",
      "WMT.N\n",
      "Processed company 281/505\n",
      "AMGN.OQ\n",
      "Processed company 282/505\n",
      "KIM.N\n",
      "Processed company 283/505\n",
      "PXD.N\n",
      "Processed company 284/505\n",
      "DG.N\n",
      "Processed company 285/505\n",
      "XRAY.OQ\n",
      "Processed company 286/505\n",
      "EQR.N\n",
      "Processed company 287/505\n",
      "URI.N\n",
      "Processed company 288/505\n",
      "TDG.N\n",
      "Processed company 289/505\n",
      "CNC.N\n",
      "Processed company 290/505\n",
      "NKE.N\n",
      "Processed company 291/505\n",
      "AES.N\n",
      "Processed company 292/505\n",
      "ELV.N\n",
      "Processed company 293/505\n",
      "GWW.N\n",
      "Processed company 294/505\n",
      "K.N\n",
      "Processed company 295/505\n",
      "GOOGL.OQ\n",
      "Processed company 296/505\n",
      "GM.N\n",
      "Processed company 297/505\n",
      "CCI.N\n",
      "Processed company 298/505\n",
      "COF.N\n",
      "Processed company 299/505\n",
      "C.N\n",
      "Processed company 300/505\n",
      "ODFL.OQ\n",
      "Processed company 301/505\n",
      "A.N\n",
      "Processed company 302/505\n",
      "MOH.N\n",
      "Processed company 303/505\n",
      "GS.N\n",
      "Processed company 304/505\n",
      "MET.N\n",
      "Processed company 305/505\n",
      "WYNN.OQ\n",
      "Processed company 306/505\n",
      "PSA.N\n",
      "Processed company 307/505\n",
      "CPT.N\n",
      "Processed company 308/505\n",
      "MRNA.OQ\n",
      "Processed company 309/505\n",
      "BK.N\n",
      "Processed company 310/505\n",
      "FAST.OQ\n",
      "Processed company 311/505\n",
      "LDOS.N\n",
      "Processed company 312/505\n",
      "ORLY.OQ\n",
      "Processed company 313/505\n",
      "CSX.OQ\n",
      "Processed company 314/505\n",
      "CFG.N\n",
      "Processed company 315/505\n",
      "NI.N\n",
      "Processed company 316/505\n",
      "MO.N\n",
      "Processed company 317/505\n",
      "DD.N\n",
      "Processed company 318/505\n",
      "AEP.OQ\n",
      "Processed company 319/505\n",
      "HOLX.OQ\n",
      "Processed company 320/505\n",
      "BX.N\n",
      "Processed company 321/505\n",
      "BBY.N\n",
      "Processed company 322/505\n",
      "LHX.N\n",
      "Processed company 323/505\n",
      "APA.OQ\n",
      "Processed company 324/505\n",
      "IFF.N\n",
      "Processed company 325/505\n",
      "CEG.OQ\n",
      "Processed company 326/505\n",
      "STT.N\n",
      "Processed company 327/505\n",
      "JCI.N\n",
      "Processed company 328/505\n",
      "FE.N\n",
      "Processed company 329/505\n",
      "PNC.N\n",
      "Processed company 330/505\n",
      "VZ.N\n",
      "Processed company 331/505\n",
      "NEM.N\n",
      "Processed company 332/505\n",
      "ROL.N\n",
      "Processed company 333/505\n",
      "KEY.N\n",
      "Processed company 334/505\n",
      "GIS.N\n",
      "Processed company 335/505\n",
      "CMCSA.OQ\n",
      "Processed company 336/505\n",
      "VLTO.N\n",
      "Processed company 337/505\n",
      "PFE.N\n",
      "Processed company 338/505\n",
      "EIX.N\n",
      "Processed company 339/505\n",
      "NWS.OQ\n",
      "Processed company 340/505\n",
      "MU.OQ\n",
      "Processed company 341/505\n",
      "UPS.N\n",
      "Processed company 342/505\n",
      "TYL.N\n",
      "Processed company 343/505\n",
      "UNP.N\n",
      "Processed company 344/505\n",
      "BAC.N\n",
      "Processed company 345/505\n",
      "KMX.N\n",
      "Processed company 346/505\n",
      "PARA.OQ\n",
      "Processed company 347/505\n",
      "IP.N\n",
      "Processed company 348/505\n",
      "MDT.N\n",
      "Processed company 349/505\n",
      "MMM.N\n",
      "Processed company 350/505\n",
      "CZR.OQ\n",
      "Processed company 351/505\n",
      "UBER.N\n",
      "Processed company 352/505\n",
      "INTU.OQ\n",
      "Processed company 353/505\n",
      "OKE.N\n",
      "Processed company 354/505\n",
      "ADP.OQ\n",
      "Processed company 355/505\n",
      "EQIX.OQ\n",
      "Processed company 356/505\n",
      "CHD.N\n",
      "Processed company 357/505\n",
      "MTD.N\n",
      "Processed company 358/505\n",
      "KDP.OQ\n",
      "Processed company 359/505\n",
      "EBAY.OQ\n",
      "Processed company 360/505\n",
      "PEG.N\n",
      "Processed company 361/505\n",
      "BIIB.OQ\n",
      "Processed company 362/505\n",
      "CTSH.OQ\n",
      "Processed company 363/505\n",
      "ALB.N\n",
      "Processed company 364/505\n",
      "TRGP.N\n",
      "Processed company 365/505\n",
      "NCLH.N\n",
      "Processed company 366/505\n",
      "UDR.N\n",
      "Processed company 367/505\n",
      "DGX.N\n",
      "Processed company 368/505\n",
      "CBOE.Z\n",
      "Processed company 369/505\n",
      "ETSY.OQ\n",
      "Processed company 370/505\n",
      "HIG.N\n",
      "Processed company 371/505\n",
      "ACGL.OQ\n",
      "Processed company 372/505\n",
      "NDSN.OQ\n",
      "Processed company 373/505\n",
      "VRSK.OQ\n",
      "Processed company 374/505\n",
      "AMT.N\n",
      "Processed company 375/505\n",
      "PYPL.OQ\n",
      "Processed company 376/505\n",
      "CAG.N\n",
      "Processed company 377/505\n",
      "UHS.N\n",
      "Processed company 378/505\n",
      "TFX.N\n",
      "Processed company 379/505\n",
      "SYF.N\n",
      "Processed company 380/505\n",
      "WAT.N\n",
      "Processed company 381/505\n",
      "INCY.OQ\n",
      "Processed company 382/505\n",
      "LRCX.OQ\n",
      "Processed company 383/505\n",
      "IDXX.OQ\n",
      "Processed company 384/505\n",
      "PPG.N\n",
      "Processed company 385/505\n",
      "LKQ.OQ\n",
      "Processed company 386/505\n",
      "BG.N\n",
      "Processed company 387/505\n",
      "HES.N\n",
      "Processed company 388/505\n",
      "EOG.N\n",
      "Processed company 389/505\n",
      "MAR.OQ\n",
      "Processed company 390/505\n",
      "TJX.N\n",
      "Processed company 391/505\n",
      "MNST.OQ\n",
      "Processed company 392/505\n",
      "VMC.N\n",
      "Processed company 393/505\n",
      "EW.N\n",
      "Processed company 394/505\n",
      "ALL.N\n",
      "Processed company 395/505\n",
      "BMY.N\n",
      "Processed company 396/505\n",
      "APH.N\n",
      "Processed company 397/505\n",
      "HON.OQ\n",
      "Processed company 398/505\n",
      "GPC.N\n",
      "Processed company 399/505\n",
      "MHK.N\n",
      "Processed company 400/505\n",
      "MCHP.OQ\n",
      "Processed company 401/505\n",
      "CAT.N\n",
      "Processed company 402/505\n",
      "PG.N\n",
      "Processed company 403/505\n",
      "ZTS.N\n",
      "Processed company 404/505\n",
      "STE.N\n",
      "Processed company 405/505\n",
      "BKR.OQ\n",
      "Processed company 406/505\n",
      "AFL.N\n",
      "Processed company 407/505\n",
      "CPB.N\n",
      "Processed company 408/505\n",
      "PTC.OQ\n",
      "Processed company 409/505\n",
      "FITB.OQ\n",
      "Processed company 410/505\n",
      "MSI.N\n",
      "Processed company 411/505\n",
      "XEL.OQ\n",
      "Processed company 412/505\n",
      "HSIC.OQ\n",
      "Processed company 413/505\n",
      "ITW.N\n",
      "Processed company 414/505\n",
      "WST.N\n",
      "Processed company 415/505\n",
      "DFS.N\n",
      "Processed company 416/505\n",
      "APTV.N\n",
      "Processed company 417/505\n",
      "MPC.N\n",
      "Processed company 418/505\n",
      "PGR.N\n",
      "Processed company 419/505\n",
      "ZION.OQ\n",
      "Processed company 420/505\n",
      "ICE.N\n",
      "Processed company 421/505\n",
      "KMB.N\n",
      "Processed company 422/505\n",
      "SWKS.OQ\n",
      "Processed company 423/505\n",
      "ABNB.OQ\n",
      "Processed company 424/505\n",
      "EL.N\n",
      "Processed company 425/505\n",
      "TSLA.OQ\n",
      "Processed company 426/505\n",
      "EXR.N\n",
      "Processed company 427/505\n",
      "SPGI.N\n",
      "Processed company 428/505\n",
      "ADBE.OQ\n",
      "Processed company 429/505\n",
      "ADSK.OQ\n",
      "Processed company 430/505\n",
      "WRK.N\n",
      "Processed company 431/505\n",
      "WHR.N\n",
      "Processed company 432/505\n",
      "FOXA.OQ\n",
      "Processed company 433/505\n",
      "TT.N\n",
      "Processed company 434/505\n",
      "TSN.N\n",
      "Processed company 435/505\n",
      "AKAM.OQ\n",
      "Processed company 436/505\n",
      "LUV.N\n",
      "Processed company 437/505\n",
      "INVH.N\n",
      "Processed company 438/505\n",
      "TSCO.OQ\n",
      "Processed company 439/505\n",
      "AON.N\n",
      "Processed company 440/505\n",
      "AMZN.OQ\n",
      "Processed company 441/505\n",
      "MS.N\n",
      "Processed company 442/505\n",
      "BRKb.N\n",
      "Processed company 443/505\n",
      "GOOG.OQ\n",
      "Processed company 444/505\n",
      "KR.N\n",
      "Processed company 445/505\n",
      "BKNG.OQ\n",
      "Processed company 446/505\n",
      "STZ.N\n",
      "Processed company 447/505\n",
      "WBD.OQ\n",
      "Processed company 448/505\n",
      "ABBV.N\n",
      "Processed company 449/505\n",
      "STLD.OQ\n",
      "Processed company 450/505\n",
      "MA.N\n",
      "Processed company 451/505\n",
      "XOM.N\n",
      "Processed company 452/505\n",
      "SWK.N\n",
      "Processed company 453/505\n",
      "FICO.N\n",
      "Processed company 454/505\n",
      "HRL.N\n",
      "Processed company 455/505\n",
      "INTC.OQ\n",
      "Processed company 456/505\n",
      "TRMB.OQ\n",
      "Processed company 457/505\n",
      "WBA.OQ\n",
      "Processed company 458/505\n",
      "OMC.N\n",
      "Processed company 459/505\n",
      "GLW.N\n",
      "Processed company 460/505\n",
      "CRM.N\n",
      "Processed company 461/505\n",
      "SBUX.OQ\n",
      "Processed company 462/505\n",
      "ATO.N\n",
      "Processed company 463/505\n",
      "ETR.N\n",
      "Processed company 464/505\n",
      "HAL.N\n",
      "Processed company 465/505\n",
      "TFC.N\n",
      "Processed company 466/505\n",
      "TAP.N\n",
      "Processed company 467/505\n",
      "ABT.N\n",
      "Processed company 468/505\n",
      "V.N\n",
      "Processed company 469/505\n",
      "YUM.N\n",
      "Processed company 470/505\n",
      "LYV.N\n",
      "Processed company 471/505\n",
      "JNPR.N\n",
      "Processed company 472/505\n",
      "EG.N\n",
      "Processed company 473/505\n",
      "FTNT.OQ\n",
      "Processed company 474/505\n",
      "DTE.N\n",
      "Processed company 475/505\n",
      "HST.OQ\n",
      "Processed company 476/505\n",
      "IRM.N\n",
      "Processed company 477/505\n",
      "PEAK.N\n",
      "Processed company 478/505\n",
      "FIS.N\n",
      "Processed company 479/505\n",
      "DAL.N\n",
      "Processed company 480/505\n",
      "ROK.N\n",
      "Processed company 481/505\n",
      "DOW.N\n",
      "Processed company 482/505\n",
      "PPL.N\n",
      "Processed company 483/505\n",
      "NTRS.OQ\n",
      "Processed company 484/505\n",
      "VFC.N\n",
      "Processed company 485/505\n",
      "ETN.N\n",
      "Processed company 486/505\n",
      "CVX.N\n",
      "Processed company 487/505\n",
      "CI.N\n",
      "Processed company 488/505\n",
      "ACN.N\n",
      "Processed company 489/505\n",
      "PANW.OQ\n",
      "Processed company 490/505\n",
      "XYL.N\n",
      "Processed company 491/505\n",
      "HAS.OQ\n",
      "Processed company 492/505\n",
      "ENPH.OQ\n",
      "Processed company 493/505\n",
      "SO.N\n",
      "Processed company 494/505\n",
      "CTLT.N\n",
      "Processed company 495/505\n",
      "EQT.N\n",
      "Processed company 496/505\n",
      "NRG.N\n",
      "Processed company 497/505\n",
      "MKTX.OQ\n",
      "Processed company 498/505\n",
      "LMT.N\n",
      "Processed company 499/505\n",
      "DLR.N\n",
      "Processed company 500/505\n",
      "PSX.N\n",
      "Processed company 501/505\n",
      "SCHW.N\n",
      "Processed company 502/505\n",
      "SNPS.OQ\n",
      "Processed company 503/505\n",
      "J.N\n",
      "Processed company 504/505\n",
      "AVY.N\n",
      "Processed company 505/505\n"
     ]
    }
   ],
   "source": [
    "idx = pd.date_range('2024-01-01' , '2024-02-21') # We need a continuous calendar data dataset in order to perform merges later\n",
    "prices = pd.DataFrame()\n",
    "\n",
    "# Iterate over each chunk and perform the API call\n",
    "for i, ric in enumerate(sp500):\n",
    "    print(ric)\n",
    "    while True:\n",
    "        try:\n",
    "            # Dummy API call function (Replace with actual API call)\n",
    "            price = rd.get_history(\n",
    "                universe=ric,\n",
    "                start = '2024-01-01',\n",
    "                end = '2024-02-21',\n",
    "                interval = 'daily',\n",
    "                fields=['OPEN_PRC', 'TRDPRC_1'],\n",
    "                adjustments='exchangeCorrection')\n",
    "            price = price.reindex(idx)\n",
    "            price['RIC'] = ric\n",
    "            prices = pd.concat([prices, price])\n",
    "\n",
    "            break  # Exit the loop if API call is successful\n",
    "\n",
    "        except Exception as e:\n",
    "            print(e)\n",
    "            time.sleep(60)\n",
    "\n",
    "    # Print the progress\n",
    "    print(f\"Processed company {i + 1}/{len(sp500)}\")"
   ],
   "metadata": {
    "collapsed": false,
    "ExecuteTime": {
     "end_time": "2024-02-23T14:24:09.311416Z",
     "start_time": "2024-02-23T14:23:24.834579Z"
    }
   }
  },
  {
   "cell_type": "code",
   "execution_count": 15,
   "outputs": [
    {
     "data": {
      "text/plain": "            OPEN_PRC  TRDPRC_1      RIC\n2024-01-01      <NA>      <NA>  POOL.OQ\n2024-01-02    394.26    388.15  POOL.OQ\n2024-01-03    382.87    373.78  POOL.OQ\n2024-01-04    370.33    372.87  POOL.OQ\n2024-01-05     371.6    377.73  POOL.OQ\n...              ...       ...      ...\n2024-02-17      <NA>      <NA>    AVY.N\n2024-02-18      <NA>      <NA>    AVY.N\n2024-02-19      <NA>      <NA>    AVY.N\n2024-02-20    207.76    209.71    AVY.N\n2024-02-21    210.01    210.93    AVY.N\n\n[26260 rows x 3 columns]",
      "text/html": "<div>\n<style scoped>\n    .dataframe tbody tr th:only-of-type {\n        vertical-align: middle;\n    }\n\n    .dataframe tbody tr th {\n        vertical-align: top;\n    }\n\n    .dataframe thead th {\n        text-align: right;\n    }\n</style>\n<table border=\"1\" class=\"dataframe\">\n  <thead>\n    <tr style=\"text-align: right;\">\n      <th></th>\n      <th>OPEN_PRC</th>\n      <th>TRDPRC_1</th>\n      <th>RIC</th>\n    </tr>\n  </thead>\n  <tbody>\n    <tr>\n      <th>2024-01-01</th>\n      <td>&lt;NA&gt;</td>\n      <td>&lt;NA&gt;</td>\n      <td>POOL.OQ</td>\n    </tr>\n    <tr>\n      <th>2024-01-02</th>\n      <td>394.26</td>\n      <td>388.15</td>\n      <td>POOL.OQ</td>\n    </tr>\n    <tr>\n      <th>2024-01-03</th>\n      <td>382.87</td>\n      <td>373.78</td>\n      <td>POOL.OQ</td>\n    </tr>\n    <tr>\n      <th>2024-01-04</th>\n      <td>370.33</td>\n      <td>372.87</td>\n      <td>POOL.OQ</td>\n    </tr>\n    <tr>\n      <th>2024-01-05</th>\n      <td>371.6</td>\n      <td>377.73</td>\n      <td>POOL.OQ</td>\n    </tr>\n    <tr>\n      <th>...</th>\n      <td>...</td>\n      <td>...</td>\n      <td>...</td>\n    </tr>\n    <tr>\n      <th>2024-02-17</th>\n      <td>&lt;NA&gt;</td>\n      <td>&lt;NA&gt;</td>\n      <td>AVY.N</td>\n    </tr>\n    <tr>\n      <th>2024-02-18</th>\n      <td>&lt;NA&gt;</td>\n      <td>&lt;NA&gt;</td>\n      <td>AVY.N</td>\n    </tr>\n    <tr>\n      <th>2024-02-19</th>\n      <td>&lt;NA&gt;</td>\n      <td>&lt;NA&gt;</td>\n      <td>AVY.N</td>\n    </tr>\n    <tr>\n      <th>2024-02-20</th>\n      <td>207.76</td>\n      <td>209.71</td>\n      <td>AVY.N</td>\n    </tr>\n    <tr>\n      <th>2024-02-21</th>\n      <td>210.01</td>\n      <td>210.93</td>\n      <td>AVY.N</td>\n    </tr>\n  </tbody>\n</table>\n<p>26260 rows × 3 columns</p>\n</div>"
     },
     "execution_count": 15,
     "metadata": {},
     "output_type": "execute_result"
    }
   ],
   "source": [
    "prices"
   ],
   "metadata": {
    "collapsed": false,
    "ExecuteTime": {
     "end_time": "2024-02-23T14:24:10.473397Z",
     "start_time": "2024-02-23T14:24:10.466635Z"
    }
   }
  },
  {
   "cell_type": "markdown",
   "source": [
    "After looking at all the financial data, we can also look at ESG data."
   ],
   "metadata": {
    "collapsed": false
   }
  },
  {
   "cell_type": "code",
   "execution_count": 16,
   "outputs": [
    {
     "name": "stderr",
     "output_type": "stream",
     "text": [
      "/Users/pascalschrader/Library/CloudStorage/OneDrive-uni-mannheim.de/Mannheim/Lehrstuhl/Lehre/ACC_540/2024/Excercise/Tutorial1/ACC540/venv/lib/python3.11/site-packages/refinitiv/data/_tools/_dataframe.py:177:FutureWarning: Downcasting object dtype arrays on .fillna, .ffill, .bfill is deprecated and will change in a future version. Call result.infer_objects(copy=False) instead. To opt-in to the future behavior, set `pd.set_option('future.no_silent_downcasting', True)`\n"
     ]
    },
    {
     "name": "stdout",
     "output_type": "stream",
     "text": [
      "Processed chunk 1/11\n",
      "Processed chunk 2/11\n"
     ]
    },
    {
     "name": "stderr",
     "output_type": "stream",
     "text": [
      "/Users/pascalschrader/Library/CloudStorage/OneDrive-uni-mannheim.de/Mannheim/Lehrstuhl/Lehre/ACC_540/2024/Excercise/Tutorial1/ACC540/venv/lib/python3.11/site-packages/refinitiv/data/_tools/_dataframe.py:177:FutureWarning: Downcasting object dtype arrays on .fillna, .ffill, .bfill is deprecated and will change in a future version. Call result.infer_objects(copy=False) instead. To opt-in to the future behavior, set `pd.set_option('future.no_silent_downcasting', True)`\n"
     ]
    },
    {
     "name": "stdout",
     "output_type": "stream",
     "text": [
      "Processed chunk 3/11\n",
      "Processed chunk 4/11\n",
      "Processed chunk 5/11\n",
      "Processed chunk 6/11\n"
     ]
    },
    {
     "name": "stderr",
     "output_type": "stream",
     "text": [
      "/Users/pascalschrader/Library/CloudStorage/OneDrive-uni-mannheim.de/Mannheim/Lehrstuhl/Lehre/ACC_540/2024/Excercise/Tutorial1/ACC540/venv/lib/python3.11/site-packages/refinitiv/data/_tools/_dataframe.py:177:FutureWarning: Downcasting object dtype arrays on .fillna, .ffill, .bfill is deprecated and will change in a future version. Call result.infer_objects(copy=False) instead. To opt-in to the future behavior, set `pd.set_option('future.no_silent_downcasting', True)`\n"
     ]
    },
    {
     "name": "stdout",
     "output_type": "stream",
     "text": [
      "Processed chunk 7/11\n",
      "Processed chunk 8/11\n"
     ]
    },
    {
     "name": "stderr",
     "output_type": "stream",
     "text": [
      "/Users/pascalschrader/Library/CloudStorage/OneDrive-uni-mannheim.de/Mannheim/Lehrstuhl/Lehre/ACC_540/2024/Excercise/Tutorial1/ACC540/venv/lib/python3.11/site-packages/refinitiv/data/_tools/_dataframe.py:177:FutureWarning: Downcasting object dtype arrays on .fillna, .ffill, .bfill is deprecated and will change in a future version. Call result.infer_objects(copy=False) instead. To opt-in to the future behavior, set `pd.set_option('future.no_silent_downcasting', True)`\n"
     ]
    },
    {
     "name": "stdout",
     "output_type": "stream",
     "text": [
      "Processed chunk 9/11\n",
      "Processed chunk 10/11\n",
      "Processed chunk 11/11\n"
     ]
    }
   ],
   "source": [
    "# Initialize an empty DataFrame to store the combined results\n",
    "all_data_list = []\n",
    "\n",
    "# Iterate over each chunk and perform the API call\n",
    "for i, chunk in enumerate(sp500_chunks):\n",
    "    while True:\n",
    "        try:\n",
    "            # Dummy API call function (Replace with actual API call)\n",
    "            chunk_data = rd.get_data(\n",
    "            universe=chunk,\n",
    "            fields=['TR.TRESGScore','TR.EnvironmentPillarScore', 'TR.SocialPillarScore', 'TR.GovernancePillarScore',\n",
    "                    'TR.TRESGCControversiesScore', 'TR.TRESGScore.date', 'TR.CompanyName'],\n",
    "            parameters={'SDate': '-3CY', 'EDate': '0CY'}\n",
    "        )\n",
    "\n",
    "            # Combine the data\n",
    "            all_data_list.append(chunk_data)\n",
    "            break  # Exit the loop if API call is successful\n",
    "\n",
    "        except Exception as e:\n",
    "            print(e)\n",
    "            time.sleep(60)\n",
    "\n",
    "    # Print the progress\n",
    "    print(f\"Processed chunk {i + 1}/{len(sp500_chunks)}\")"
   ],
   "metadata": {
    "collapsed": false,
    "ExecuteTime": {
     "end_time": "2024-02-23T14:24:54.756163Z",
     "start_time": "2024-02-23T14:24:19.078249Z"
    }
   }
  },
  {
   "cell_type": "code",
   "execution_count": 17,
   "outputs": [
    {
     "data": {
      "text/plain": "   Instrument  ESG Score  Environmental Pillar Score  Social Pillar Score  \\\n0     POOL.OQ   45.07241                   10.713089             26.44326   \n1     POOL.OQ  48.927477                   12.731237            33.264248   \n2     POOL.OQ  50.705782                   19.995099             35.51464   \n3     CHRW.OQ  41.077807                   31.539665            49.679136   \n4     CHRW.OQ  40.228488                   25.785817            49.744263   \n..        ...        ...                         ...                  ...   \n7         J.N  79.321801                   76.855787             91.26282   \n8         J.N  80.143392                   76.915794            90.845091   \n9       AVY.N  55.607099                     67.9274            64.602871   \n10      AVY.N  56.217896                   66.378613            64.260734   \n11      AVY.N  67.071339                   82.747941             65.44463   \n\n    Governance Pillar Score  ESG Controversies Score       Date  \\\n0                 83.441153                    100.0 2020-12-31   \n1                 83.866898                    100.0 2021-12-31   \n2                 82.980778                    100.0 2022-12-31   \n3                  41.34185                    100.0 2020-12-31   \n4                 45.189184                    100.0 2021-12-31   \n..                      ...                      ...        ...   \n7                 65.790042                    100.0 2020-10-02   \n8                 68.728316                    100.0 2021-10-01   \n9                 21.473136                    100.0 2019-12-28   \n10                27.009987                    100.0 2021-01-02   \n11                45.790248                    100.0 2022-01-01   \n\n                 Company Name  \n0                   Pool Corp  \n1                        <NA>  \n2                        <NA>  \n3   CH Robinson Worldwide Inc  \n4                        <NA>  \n..                        ...  \n7        Jacobs Solutions Inc  \n8                        <NA>  \n9         Avery Dennison Corp  \n10                       <NA>  \n11                       <NA>  \n\n[1295 rows x 8 columns]",
      "text/html": "<div>\n<style scoped>\n    .dataframe tbody tr th:only-of-type {\n        vertical-align: middle;\n    }\n\n    .dataframe tbody tr th {\n        vertical-align: top;\n    }\n\n    .dataframe thead th {\n        text-align: right;\n    }\n</style>\n<table border=\"1\" class=\"dataframe\">\n  <thead>\n    <tr style=\"text-align: right;\">\n      <th></th>\n      <th>Instrument</th>\n      <th>ESG Score</th>\n      <th>Environmental Pillar Score</th>\n      <th>Social Pillar Score</th>\n      <th>Governance Pillar Score</th>\n      <th>ESG Controversies Score</th>\n      <th>Date</th>\n      <th>Company Name</th>\n    </tr>\n  </thead>\n  <tbody>\n    <tr>\n      <th>0</th>\n      <td>POOL.OQ</td>\n      <td>45.07241</td>\n      <td>10.713089</td>\n      <td>26.44326</td>\n      <td>83.441153</td>\n      <td>100.0</td>\n      <td>2020-12-31</td>\n      <td>Pool Corp</td>\n    </tr>\n    <tr>\n      <th>1</th>\n      <td>POOL.OQ</td>\n      <td>48.927477</td>\n      <td>12.731237</td>\n      <td>33.264248</td>\n      <td>83.866898</td>\n      <td>100.0</td>\n      <td>2021-12-31</td>\n      <td>&lt;NA&gt;</td>\n    </tr>\n    <tr>\n      <th>2</th>\n      <td>POOL.OQ</td>\n      <td>50.705782</td>\n      <td>19.995099</td>\n      <td>35.51464</td>\n      <td>82.980778</td>\n      <td>100.0</td>\n      <td>2022-12-31</td>\n      <td>&lt;NA&gt;</td>\n    </tr>\n    <tr>\n      <th>3</th>\n      <td>CHRW.OQ</td>\n      <td>41.077807</td>\n      <td>31.539665</td>\n      <td>49.679136</td>\n      <td>41.34185</td>\n      <td>100.0</td>\n      <td>2020-12-31</td>\n      <td>CH Robinson Worldwide Inc</td>\n    </tr>\n    <tr>\n      <th>4</th>\n      <td>CHRW.OQ</td>\n      <td>40.228488</td>\n      <td>25.785817</td>\n      <td>49.744263</td>\n      <td>45.189184</td>\n      <td>100.0</td>\n      <td>2021-12-31</td>\n      <td>&lt;NA&gt;</td>\n    </tr>\n    <tr>\n      <th>...</th>\n      <td>...</td>\n      <td>...</td>\n      <td>...</td>\n      <td>...</td>\n      <td>...</td>\n      <td>...</td>\n      <td>...</td>\n      <td>...</td>\n    </tr>\n    <tr>\n      <th>7</th>\n      <td>J.N</td>\n      <td>79.321801</td>\n      <td>76.855787</td>\n      <td>91.26282</td>\n      <td>65.790042</td>\n      <td>100.0</td>\n      <td>2020-10-02</td>\n      <td>Jacobs Solutions Inc</td>\n    </tr>\n    <tr>\n      <th>8</th>\n      <td>J.N</td>\n      <td>80.143392</td>\n      <td>76.915794</td>\n      <td>90.845091</td>\n      <td>68.728316</td>\n      <td>100.0</td>\n      <td>2021-10-01</td>\n      <td>&lt;NA&gt;</td>\n    </tr>\n    <tr>\n      <th>9</th>\n      <td>AVY.N</td>\n      <td>55.607099</td>\n      <td>67.9274</td>\n      <td>64.602871</td>\n      <td>21.473136</td>\n      <td>100.0</td>\n      <td>2019-12-28</td>\n      <td>Avery Dennison Corp</td>\n    </tr>\n    <tr>\n      <th>10</th>\n      <td>AVY.N</td>\n      <td>56.217896</td>\n      <td>66.378613</td>\n      <td>64.260734</td>\n      <td>27.009987</td>\n      <td>100.0</td>\n      <td>2021-01-02</td>\n      <td>&lt;NA&gt;</td>\n    </tr>\n    <tr>\n      <th>11</th>\n      <td>AVY.N</td>\n      <td>67.071339</td>\n      <td>82.747941</td>\n      <td>65.44463</td>\n      <td>45.790248</td>\n      <td>100.0</td>\n      <td>2022-01-01</td>\n      <td>&lt;NA&gt;</td>\n    </tr>\n  </tbody>\n</table>\n<p>1295 rows × 8 columns</p>\n</div>"
     },
     "execution_count": 17,
     "metadata": {},
     "output_type": "execute_result"
    }
   ],
   "source": [
    "esg = pd.concat(all_data_list)\n",
    "esg"
   ],
   "metadata": {
    "collapsed": false,
    "ExecuteTime": {
     "end_time": "2024-02-23T14:25:13.934931Z",
     "start_time": "2024-02-23T14:25:13.916445Z"
    }
   }
  }
 ],
 "metadata": {
  "kernelspec": {
   "display_name": "Python 3",
   "language": "python",
   "name": "python3"
  },
  "language_info": {
   "codemirror_mode": {
    "name": "ipython",
    "version": 2
   },
   "file_extension": ".py",
   "mimetype": "text/x-python",
   "name": "python",
   "nbconvert_exporter": "python",
   "pygments_lexer": "ipython2",
   "version": "2.7.6"
  }
 },
 "nbformat": 4,
 "nbformat_minor": 0
}
